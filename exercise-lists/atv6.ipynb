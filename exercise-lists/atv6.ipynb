{
 "cells": [
  {
   "cell_type": "markdown",
   "metadata": {},
   "source": [
    "# [CDAF] Atividade 6"
   ]
  },
  {
   "cell_type": "markdown",
   "metadata": {},
   "source": [
    "## Nome e matrícula\n",
    "Nome: Arthur Pontes Nader\n",
    "Matrícula: 2019022294"
   ]
  },
  {
   "cell_type": "markdown",
   "metadata": {},
   "source": [
    "## Referências\n",
    "- [1] https://www.ecmlpkdd2019.org/downloads/paper/701.pdf\n",
    "- [2] https://dtai.cs.kuleuven.be/sports/blog/player-vectors:-characterizing-soccer-players'-playing-style\n",
    "- [3] https://dtai.cs.kuleuven.be/sports/player_vectors\n",
    "- [4] https://github.com/TomDecroos/matplotsoccer"
   ]
  },
  {
   "cell_type": "markdown",
   "metadata": {},
   "source": [
    "## Introdução\n",
    "- Nessa atividade, temos implementado o \"Player Vectors\", método proposto em [1] para caracterizar o estilo de jogo de jogadores baseado nas localizações que realizam cada tipo de ação.\n",
    "- [2] apresenta o conteúdo do paper em [1] de forma mais resumida e visual, em formato de blog.\n",
    "- [3] oferece uma demo interativa com uma aplicação do método no contexto de comparar a similaridade entre jogadores.\n",
    "- [4] é uma biblioteca para plotar visualizações de partidas de futebol. Além disso, ela tem uma função pronta para criar heatmaps de ações de jogadores, que é util para o nosso contexto."
   ]
  },
  {
   "cell_type": "markdown",
   "metadata": {},
   "source": [
    "## Intruções\n",
    "- Para cada header abaixo do notebook, vocês devem explicar o que foi feito e à qual seção/subseção/equação de [1] ela corresponde. Justifique suas respostas.\n",
    "- Além disso, vocês devem montar um diagrama do fluxo de funções/tarefas de toda a pipeline do Player Vectors abaixo. Esse diagrama deve ser enviado como arquivo na submissão do Moodle, para além deste notebook."
   ]
  },
  {
   "cell_type": "markdown",
   "metadata": {},
   "source": [
    "### Carregando os dados"
   ]
  },
  {
   "cell_type": "code",
   "execution_count": 1,
   "metadata": {},
   "outputs": [],
   "source": [
    "import numpy as np\n",
    "import pandas as pd"
   ]
  },
  {
   "cell_type": "code",
   "execution_count": 2,
   "metadata": {},
   "outputs": [],
   "source": [
    "def load_matches(path):\n",
    "    matches = pd.read_json(path_or_buf=path)\n",
    "    # as informações dos times de cada partida estão em um dicionário dentro da coluna 'teamsData', então vamos separar essas informações\n",
    "    team_matches = []\n",
    "    for i in range(len(matches)):\n",
    "        team_match = pd.DataFrame(matches.loc[i, 'teamsData']).T\n",
    "        team_match['matchId'] = matches.loc[i, 'wyId']\n",
    "        team_matches.append(team_match)\n",
    "    team_matches = pd.concat(team_matches).reset_index(drop=True)\n",
    "\n",
    "    return matches, team_matches"
   ]
  },
  {
   "cell_type": "code",
   "execution_count": 3,
   "metadata": {},
   "outputs": [],
   "source": [
    "def get_position(x):\n",
    "    return x['name']\n",
    "\n",
    "def load_players(path):\n",
    "    players = pd.read_json(path_or_buf=path)\n",
    "    players['player_name'] = players['firstName'] + ' ' + players['lastName']\n",
    "    players['role'] = players['role'].apply(get_position)\n",
    "    players = players[['wyId', 'player_name', 'role']].rename(columns={'wyId': 'player_id'})\n",
    "\n",
    "    return players"
   ]
  },
  {
   "cell_type": "code",
   "execution_count": 4,
   "metadata": {},
   "outputs": [],
   "source": [
    "def load_events(path):\n",
    "    events = pd.read_json(path_or_buf=path)\n",
    "    # pré processamento em colunas da tabela de eventos para facilitar a conversão p/ SPADL\n",
    "    events = events.rename(columns={\n",
    "        'id': 'event_id',\n",
    "        'eventId': 'type_id',\n",
    "        'subEventId': 'subtype_id',\n",
    "        'teamId': 'team_id',\n",
    "        'playerId': 'player_id',\n",
    "        'matchId': 'game_id'\n",
    "    })\n",
    "    events['milliseconds'] = events['eventSec'] * 1000\n",
    "    events['period_id'] = events['matchPeriod'].replace({'1H': 1, '2H': 2})\n",
    "\n",
    "    return events"
   ]
  },
  {
   "cell_type": "code",
   "execution_count": 5,
   "metadata": {},
   "outputs": [],
   "source": [
    "def load_minutes_played_per_game(path):\n",
    "    minutes = pd.read_json(path_or_buf=path)\n",
    "    minutes = minutes.rename(columns={\n",
    "        'playerId': 'player_id',\n",
    "        'matchId': 'game_id',\n",
    "        'teamId': 'team_id',\n",
    "        'minutesPlayed': 'minutes_played'\n",
    "    })\n",
    "    minutes = minutes.drop(['shortName', 'teamName', 'red_card'], axis=1)\n",
    "\n",
    "    return minutes"
   ]
  },
  {
   "cell_type": "code",
   "execution_count": 6,
   "metadata": {},
   "outputs": [],
   "source": [
    "leagues = ['England', 'Spain']\n",
    "events = {}\n",
    "matches = {}\n",
    "team_matches = {}\n",
    "game_minutes = {}\n",
    "for league in leagues:\n",
    "    path = r'matches_{}.json'.format(league)\n",
    "    matches[league], team_matches[league] = load_matches(path)\n",
    "    path = r'events_{}.json'.format(league)\n",
    "    events[league] = load_events(path)\n",
    "    path = r'minutes_played_per_game_{}.json'.format(league)\n",
    "    game_minutes[league] = load_minutes_played_per_game(path)"
   ]
  },
  {
   "cell_type": "code",
   "execution_count": 7,
   "metadata": {},
   "outputs": [],
   "source": [
    "path = r'players.json'\n",
    "players = load_players(path)\n",
    "players['player_name'] = players['player_name'].str.decode('unicode-escape')"
   ]
  },
  {
   "cell_type": "code",
   "execution_count": 8,
   "metadata": {},
   "outputs": [],
   "source": [
    "def calculate_minutes_per_season(minutes_per_game):\n",
    "    minutes_per_season = minutes_per_game.groupby('player_id', as_index=False)['minutes_played'].sum()\n",
    "\n",
    "    return minutes_per_season"
   ]
  },
  {
   "cell_type": "markdown",
   "metadata": {},
   "source": [
    "O conjunto de funções acima são utilizadas para carregar e pré-processar dados relacionados as partidas de futebol, jogadores, eventos, minutos jogados por partida e minutos jogados por temporada das ligas escolhidas (Inglaterra e Espanha). Essa primeira parte corresponde à subseção \"2.1 - Event Stream Data\" do artigo."
   ]
  },
  {
   "cell_type": "markdown",
   "metadata": {},
   "source": [
    "### SPADL"
   ]
  },
  {
   "cell_type": "code",
   "execution_count": 9,
   "metadata": {},
   "outputs": [],
   "source": [
    "from tqdm import tqdm\n",
    "import socceraction.spadl as spd"
   ]
  },
  {
   "cell_type": "code",
   "execution_count": 10,
   "metadata": {},
   "outputs": [],
   "source": [
    "def spadl_transform(events, team_matches):\n",
    "    spadl = []\n",
    "    game_ids = events.game_id.unique().tolist()\n",
    "    for g in tqdm(game_ids):\n",
    "        match_events = events.loc[events.game_id == g]\n",
    "        match_home_id = team_matches.loc[(team_matches.matchId == g) & (team_matches.side == 'home'), 'teamId'].values[0]\n",
    "        match_actions = spd.wyscout.convert_to_actions(events=match_events, home_team_id=match_home_id)\n",
    "        match_actions = spd.play_left_to_right(actions=match_actions, home_team_id=match_home_id)\n",
    "        match_actions = spd.add_names(match_actions)\n",
    "        spadl.append(match_actions)\n",
    "    spadl = pd.concat(spadl).reset_index(drop=True)\n",
    "\n",
    "    return spadl"
   ]
  },
  {
   "cell_type": "code",
   "execution_count": 11,
   "metadata": {},
   "outputs": [
    {
     "name": "stderr",
     "output_type": "stream",
     "text": [
      "100%|█████████████████████████████████████████| 380/380 [05:33<00:00,  1.14it/s]\n",
      "100%|█████████████████████████████████████████| 380/380 [05:26<00:00,  1.16it/s]\n"
     ]
    }
   ],
   "source": [
    "spadl = {}\n",
    "for league in leagues:\n",
    "    spadl[league] = spadl_transform(events=events[league], team_matches=team_matches[league])"
   ]
  },
  {
   "cell_type": "code",
   "execution_count": 46,
   "metadata": {},
   "outputs": [
    {
     "data": {
      "text/html": [
       "<div>\n",
       "<style scoped>\n",
       "    .dataframe tbody tr th:only-of-type {\n",
       "        vertical-align: middle;\n",
       "    }\n",
       "\n",
       "    .dataframe tbody tr th {\n",
       "        vertical-align: top;\n",
       "    }\n",
       "\n",
       "    .dataframe thead th {\n",
       "        text-align: right;\n",
       "    }\n",
       "</style>\n",
       "<table border=\"1\" class=\"dataframe\">\n",
       "  <thead>\n",
       "    <tr style=\"text-align: right;\">\n",
       "      <th></th>\n",
       "      <th>game_id</th>\n",
       "      <th>period_id</th>\n",
       "      <th>time_seconds</th>\n",
       "      <th>team_id</th>\n",
       "      <th>player_id</th>\n",
       "      <th>start_x</th>\n",
       "      <th>start_y</th>\n",
       "      <th>end_x</th>\n",
       "      <th>end_y</th>\n",
       "      <th>original_event_id</th>\n",
       "      <th>bodypart_id</th>\n",
       "      <th>type_id</th>\n",
       "      <th>result_id</th>\n",
       "      <th>action_id</th>\n",
       "      <th>type_name</th>\n",
       "      <th>result_name</th>\n",
       "      <th>bodypart_name</th>\n",
       "    </tr>\n",
       "  </thead>\n",
       "  <tbody>\n",
       "    <tr>\n",
       "      <th>0</th>\n",
       "      <td>2499719</td>\n",
       "      <td>1</td>\n",
       "      <td>2.758649</td>\n",
       "      <td>1609</td>\n",
       "      <td>25413</td>\n",
       "      <td>51.45</td>\n",
       "      <td>34.68</td>\n",
       "      <td>32.55</td>\n",
       "      <td>14.96</td>\n",
       "      <td>177959171</td>\n",
       "      <td>0</td>\n",
       "      <td>0</td>\n",
       "      <td>1</td>\n",
       "      <td>0</td>\n",
       "      <td>pass</td>\n",
       "      <td>success</td>\n",
       "      <td>foot</td>\n",
       "    </tr>\n",
       "    <tr>\n",
       "      <th>1</th>\n",
       "      <td>2499719</td>\n",
       "      <td>1</td>\n",
       "      <td>4.946850</td>\n",
       "      <td>1609</td>\n",
       "      <td>370224</td>\n",
       "      <td>32.55</td>\n",
       "      <td>14.96</td>\n",
       "      <td>53.55</td>\n",
       "      <td>17.00</td>\n",
       "      <td>177959172</td>\n",
       "      <td>0</td>\n",
       "      <td>0</td>\n",
       "      <td>1</td>\n",
       "      <td>1</td>\n",
       "      <td>pass</td>\n",
       "      <td>success</td>\n",
       "      <td>foot</td>\n",
       "    </tr>\n",
       "    <tr>\n",
       "      <th>2</th>\n",
       "      <td>2499719</td>\n",
       "      <td>1</td>\n",
       "      <td>6.542188</td>\n",
       "      <td>1609</td>\n",
       "      <td>3319</td>\n",
       "      <td>53.55</td>\n",
       "      <td>17.00</td>\n",
       "      <td>36.75</td>\n",
       "      <td>19.72</td>\n",
       "      <td>177959173</td>\n",
       "      <td>1</td>\n",
       "      <td>0</td>\n",
       "      <td>1</td>\n",
       "      <td>2</td>\n",
       "      <td>pass</td>\n",
       "      <td>success</td>\n",
       "      <td>head</td>\n",
       "    </tr>\n",
       "    <tr>\n",
       "      <th>3</th>\n",
       "      <td>2499719</td>\n",
       "      <td>1</td>\n",
       "      <td>8.143395</td>\n",
       "      <td>1609</td>\n",
       "      <td>120339</td>\n",
       "      <td>36.75</td>\n",
       "      <td>19.72</td>\n",
       "      <td>43.05</td>\n",
       "      <td>3.40</td>\n",
       "      <td>177959174</td>\n",
       "      <td>1</td>\n",
       "      <td>0</td>\n",
       "      <td>1</td>\n",
       "      <td>3</td>\n",
       "      <td>pass</td>\n",
       "      <td>success</td>\n",
       "      <td>head</td>\n",
       "    </tr>\n",
       "    <tr>\n",
       "      <th>4</th>\n",
       "      <td>2499719</td>\n",
       "      <td>1</td>\n",
       "      <td>10.302366</td>\n",
       "      <td>1609</td>\n",
       "      <td>167145</td>\n",
       "      <td>43.05</td>\n",
       "      <td>3.40</td>\n",
       "      <td>75.60</td>\n",
       "      <td>8.16</td>\n",
       "      <td>177959175</td>\n",
       "      <td>0</td>\n",
       "      <td>0</td>\n",
       "      <td>1</td>\n",
       "      <td>4</td>\n",
       "      <td>pass</td>\n",
       "      <td>success</td>\n",
       "      <td>foot</td>\n",
       "    </tr>\n",
       "  </tbody>\n",
       "</table>\n",
       "</div>"
      ],
      "text/plain": [
       "   game_id  period_id  time_seconds  team_id  player_id  start_x  start_y  \\\n",
       "0  2499719          1      2.758649     1609      25413    51.45    34.68   \n",
       "1  2499719          1      4.946850     1609     370224    32.55    14.96   \n",
       "2  2499719          1      6.542188     1609       3319    53.55    17.00   \n",
       "3  2499719          1      8.143395     1609     120339    36.75    19.72   \n",
       "4  2499719          1     10.302366     1609     167145    43.05     3.40   \n",
       "\n",
       "   end_x  end_y original_event_id  bodypart_id  type_id  result_id  action_id  \\\n",
       "0  32.55  14.96         177959171            0        0          1          0   \n",
       "1  53.55  17.00         177959172            0        0          1          1   \n",
       "2  36.75  19.72         177959173            1        0          1          2   \n",
       "3  43.05   3.40         177959174            1        0          1          3   \n",
       "4  75.60   8.16         177959175            0        0          1          4   \n",
       "\n",
       "  type_name result_name bodypart_name  \n",
       "0      pass     success          foot  \n",
       "1      pass     success          foot  \n",
       "2      pass     success          head  \n",
       "3      pass     success          head  \n",
       "4      pass     success          foot  "
      ]
     },
     "execution_count": 46,
     "metadata": {},
     "output_type": "execute_result"
    }
   ],
   "source": [
    "spadl[\"England\"].head()"
   ]
  },
  {
   "cell_type": "markdown",
   "metadata": {},
   "source": [
    "A função acima recebe os eventos e as informações dos times de cada partida e realiza a transformação dos eventos para o formato SPADL. A subseção do artigo que faz referência a essa transformação também é a mesma do pré-processamento: \"2.1 - Event Stream Data\"."
   ]
  },
  {
   "cell_type": "markdown",
   "metadata": {},
   "source": [
    "### Construção de Heatmaps"
   ]
  },
  {
   "cell_type": "code",
   "execution_count": 12,
   "metadata": {},
   "outputs": [],
   "source": [
    "import scipy\n",
    "import matplotsoccer as mps"
   ]
  },
  {
   "cell_type": "code",
   "execution_count": 13,
   "metadata": {},
   "outputs": [],
   "source": [
    "def construct_heatmaps(spadl, season_minutes, action_type):\n",
    "    heatmaps = {}\n",
    "    if action_type == 'pass':\n",
    "        heatmaps['start'] = {}\n",
    "        heatmaps['end'] = {}\n",
    "    for player_id in tqdm(season_minutes['player_id'].tolist()):\n",
    "        mask = (spadl['player_id'] == player_id) & (spadl['type_name'] == action_type)\n",
    "        player_actions = spadl[mask]\n",
    "        if action_type != 'pass':\n",
    "            heatmaps[player_id] = mps.count(x=player_actions['start_x'], y=player_actions['start_y'], n=25, m=16)\n",
    "            heatmaps[player_id] *= (90 / season_minutes[season_minutes['player_id'] == player_id]['minutes_played'].values[0])\n",
    "            heatmaps[player_id] = scipy.ndimage.gaussian_filter(heatmaps[player_id], 1)\n",
    "        else:\n",
    "            heatmaps['start'][player_id] = mps.count(x=player_actions['start_x'], y=player_actions['start_y'], n=25, m=16)\n",
    "            heatmaps['start'][player_id] *= (90 / season_minutes[season_minutes['player_id'] == player_id]['minutes_played'].values[0])\n",
    "            heatmaps['start'][player_id] = scipy.ndimage.gaussian_filter(heatmaps['start'][player_id], 1)\n",
    "            heatmaps['end'][player_id] = mps.count(x=player_actions['end_x'], y=player_actions['end_y'], n=25, m=16)\n",
    "            heatmaps['end'][player_id] *= (90 / season_minutes[season_minutes['player_id'] == player_id]['minutes_played'].values[0])\n",
    "            heatmaps['end'][player_id] = scipy.ndimage.gaussian_filter(heatmaps['end'][player_id], 1)\n",
    "\n",
    "    return heatmaps"
   ]
  },
  {
   "cell_type": "code",
   "execution_count": 14,
   "metadata": {},
   "outputs": [],
   "source": [
    "season_minutes = {}\n",
    "for league in leagues:\n",
    "    season_minutes[league] = calculate_minutes_per_season(minutes_per_game=game_minutes[league])\n",
    "    mask = (season_minutes[league]['minutes_played'] >= 900) & (season_minutes[league]['player_id'].isin(players.loc[players['role'] != 'Goalkeeper', 'player_id']))\n",
    "    season_minutes[league] = season_minutes[league][mask]"
   ]
  },
  {
   "cell_type": "code",
   "execution_count": 15,
   "metadata": {},
   "outputs": [
    {
     "name": "stderr",
     "output_type": "stream",
     "text": [
      "100%|█████████████████████████████████████████| 309/309 [00:15<00:00, 19.61it/s]\n",
      "100%|█████████████████████████████████████████| 309/309 [00:15<00:00, 20.00it/s]\n",
      "100%|█████████████████████████████████████████| 309/309 [00:13<00:00, 22.96it/s]\n",
      "100%|█████████████████████████████████████████| 309/309 [00:13<00:00, 22.42it/s]\n",
      "100%|█████████████████████████████████████████| 324/324 [00:16<00:00, 19.97it/s]\n",
      "100%|█████████████████████████████████████████| 324/324 [00:15<00:00, 20.56it/s]\n",
      "100%|█████████████████████████████████████████| 324/324 [00:14<00:00, 22.81it/s]\n",
      "100%|█████████████████████████████████████████| 324/324 [00:14<00:00, 22.50it/s]\n"
     ]
    }
   ],
   "source": [
    "action_types = ['shot', 'pass', 'cross', 'dribble']\n",
    "heatmaps = {}\n",
    "for league in leagues:\n",
    "    heatmaps[league] = {}\n",
    "    for at in action_types:\n",
    "        heatmaps[league][at] = construct_heatmaps(spadl=spadl[league], season_minutes=season_minutes[league], action_type=at)"
   ]
  },
  {
   "cell_type": "code",
   "execution_count": 16,
   "metadata": {},
   "outputs": [
    {
     "data": {
      "image/png": "[encoded data removed]",
      "text/plain": [
       "<Figure size 432x288 with 1 Axes>"
      ]
     },
     "metadata": {
      "needs_background": "light"
     },
     "output_type": "display_data"
    },
    {
     "data": {
      "text/plain": [
       "<AxesSubplot:>"
      ]
     },
     "execution_count": 16,
     "metadata": {},
     "output_type": "execute_result"
    }
   ],
   "source": [
    "mps.heatmap(heatmaps['Spain']['shot'][3359])"
   ]
  },
  {
   "cell_type": "markdown",
   "metadata": {},
   "source": [
    "A função *construct_heatmaps* recebe dados SPADL, o dataframe de minutos jogados por temporada e um tipo de ação. Com esses dados, gera-se mapas de calor relacionados a chutes, passes, dribles e cruzamentos para os jogadores com base nas coordenadas dessass ações, sendo que esses são ajustados de acordo com a quantidade de minutos jogados e aplicadando um filtro gaussiano. Essa parte  está relacionada às seguintes subseções da seção 4: \"4.1 Selecting Relevant Action Types\" e \"4.2 - Constructing Heatmaps\"."
   ]
  },
  {
   "cell_type": "markdown",
   "metadata": {},
   "source": [
    "### Comprimindo heatmaps para vetores"
   ]
  },
  {
   "cell_type": "code",
   "execution_count": 17,
   "metadata": {},
   "outputs": [],
   "source": [
    "def heatmaps_to_vectors(heatmaps, action_type):\n",
    "    if action_type != 'pass':\n",
    "        vectorized_heatmaps = np.array([heatmaps[player_id].reshape(-1) for player_id in heatmaps.keys()])\n",
    "    else:\n",
    "        vectorized_heatmaps = np.array([np.concatenate([heatmaps['start'][player_id].reshape(-1), heatmaps['end'][player_id].reshape(-1)]) for player_id in heatmaps['start'].keys()])\n",
    "\n",
    "    return vectorized_heatmaps"
   ]
  },
  {
   "cell_type": "code",
   "execution_count": 18,
   "metadata": {},
   "outputs": [],
   "source": [
    "vectorized_heatmaps = {}\n",
    "for league in leagues:\n",
    "    vectorized_heatmaps[league] = {}\n",
    "    for act_type in action_types:\n",
    "        vectorized_heatmaps[league][act_type] = heatmaps_to_vectors(heatmaps=heatmaps[league][act_type], action_type=act_type)"
   ]
  },
  {
   "cell_type": "code",
   "execution_count": 62,
   "metadata": {},
   "outputs": [
    {
     "data": {
      "text/plain": [
       "((324, 400), (324, 800))"
      ]
     },
     "execution_count": 62,
     "metadata": {},
     "output_type": "execute_result"
    }
   ],
   "source": [
    "vectorized_heatmaps[\"Spain\"][\"shot\"].shape, vectorized_heatmaps[\"Spain\"][\"pass\"].shape"
   ]
  },
  {
   "cell_type": "code",
   "execution_count": 63,
   "metadata": {},
   "outputs": [
    {
     "data": {
      "text/plain": [
       "array([[0.00000000e+00, 0.00000000e+00, 1.16893201e-09, ...,\n",
       "        4.76707830e-02, 5.00256137e-02, 4.16294991e-02],\n",
       "       [0.00000000e+00, 0.00000000e+00, 0.00000000e+00, ...,\n",
       "        1.53890568e-01, 1.27785987e-01, 1.20594519e-01],\n",
       "       [9.57895379e-02, 1.43876743e-01, 1.99343206e-01, ...,\n",
       "        4.74144553e-03, 1.09739100e-03, 1.55586757e-04],\n",
       "       [0.00000000e+00, 0.00000000e+00, 0.00000000e+00, ...,\n",
       "        1.36571681e-01, 1.35300594e-01, 1.46851313e-01],\n",
       "       [5.47430367e-02, 7.77287040e-02, 9.62784582e-02, ...,\n",
       "        2.54265157e-02, 2.50730330e-02, 4.48648046e-02]])"
      ]
     },
     "execution_count": 63,
     "metadata": {},
     "output_type": "execute_result"
    }
   ],
   "source": [
    "vectorized_heatmaps[\"Spain\"][\"pass\"][:5]"
   ]
  },
  {
   "cell_type": "markdown",
   "metadata": {},
   "source": [
    "Já a função acima recebe os mapas de calor gerados e um tipo de ação e converte esses mapas de calor em vetores, onde cada vetor representa um jogador. Se o tipo de ação for \"pass\", os mapas de calor de início e fim de passe são concatenados em um único vetor. O principal objetivo dessa transformação é capturar a informação disponível no heatmap em um vetor. Essa etapa está relacionada à subseção \"4.3 - Compressing Heatmaps to Vectors\" do artigo [1]."
   ]
  },
  {
   "cell_type": "markdown",
   "metadata": {},
   "source": [
    "### NMF"
   ]
  },
  {
   "cell_type": "code",
   "execution_count": 19,
   "metadata": {},
   "outputs": [],
   "source": [
    "from sklearn.decomposition import NMF"
   ]
  },
  {
   "cell_type": "code",
   "execution_count": 20,
   "metadata": {},
   "outputs": [],
   "source": [
    "def nmf_decomposition(vectorized_heatmaps, n_components):\n",
    "    nmf = NMF(n_components=n_components, init='nndsvda', random_state=0)\n",
    "    nmf.fit(vectorized_heatmaps)\n",
    "\n",
    "    return nmf"
   ]
  },
  {
   "cell_type": "code",
   "execution_count": 21,
   "metadata": {},
   "outputs": [],
   "source": [
    "n_components = {'shot': 4, 'pass': 5, 'cross': 4, 'dribble': 5}\n",
    "concat_vectors = {}\n",
    "nmfs = {}\n",
    "for act_type in action_types:\n",
    "    concat_vectors[act_type] = np.concatenate([vectorized_heatmaps['England'][act_type], vectorized_heatmaps['Spain'][act_type]])\n",
    "    nmfs[act_type] = nmf_decomposition(vectorized_heatmaps=concat_vectors[act_type], n_components=n_components[act_type])"
   ]
  },
  {
   "cell_type": "code",
   "execution_count": 72,
   "metadata": {},
   "outputs": [
    {
     "data": {
      "text/html": [
       "<style>#sk-container-id-2 {color: black;background-color: white;}#sk-container-id-2 pre{padding: 0;}#sk-container-id-2 div.sk-toggleable {background-color: white;}#sk-container-id-2 label.sk-toggleable__label {cursor: pointer;display: block;width: 100%;margin-bottom: 0;padding: 0.3em;box-sizing: border-box;text-align: center;}#sk-container-id-2 label.sk-toggleable__label-arrow:before {content: \"▸\";float: left;margin-right: 0.25em;color: #696969;}#sk-container-id-2 label.sk-toggleable__label-arrow:hover:before {color: black;}#sk-container-id-2 div.sk-estimator:hover label.sk-toggleable__label-arrow:before {color: black;}#sk-container-id-2 div.sk-toggleable__content {max-height: 0;max-width: 0;overflow: hidden;text-align: left;background-color: #f0f8ff;}#sk-container-id-2 div.sk-toggleable__content pre {margin: 0.2em;color: black;border-radius: 0.25em;background-color: #f0f8ff;}#sk-container-id-2 input.sk-toggleable__control:checked~div.sk-toggleable__content {max-height: 200px;max-width: 100%;overflow: auto;}#sk-container-id-2 input.sk-toggleable__control:checked~label.sk-toggleable__label-arrow:before {content: \"▾\";}#sk-container-id-2 div.sk-estimator input.sk-toggleable__control:checked~label.sk-toggleable__label {background-color: #d4ebff;}#sk-container-id-2 div.sk-label input.sk-toggleable__control:checked~label.sk-toggleable__label {background-color: #d4ebff;}#sk-container-id-2 input.sk-hidden--visually {border: 0;clip: rect(1px 1px 1px 1px);clip: rect(1px, 1px, 1px, 1px);height: 1px;margin: -1px;overflow: hidden;padding: 0;position: absolute;width: 1px;}#sk-container-id-2 div.sk-estimator {font-family: monospace;background-color: #f0f8ff;border: 1px dotted black;border-radius: 0.25em;box-sizing: border-box;margin-bottom: 0.5em;}#sk-container-id-2 div.sk-estimator:hover {background-color: #d4ebff;}#sk-container-id-2 div.sk-parallel-item::after {content: \"\";width: 100%;border-bottom: 1px solid gray;flex-grow: 1;}#sk-container-id-2 div.sk-label:hover label.sk-toggleable__label {background-color: #d4ebff;}#sk-container-id-2 div.sk-serial::before {content: \"\";position: absolute;border-left: 1px solid gray;box-sizing: border-box;top: 0;bottom: 0;left: 50%;z-index: 0;}#sk-container-id-2 div.sk-serial {display: flex;flex-direction: column;align-items: center;background-color: white;padding-right: 0.2em;padding-left: 0.2em;position: relative;}#sk-container-id-2 div.sk-item {position: relative;z-index: 1;}#sk-container-id-2 div.sk-parallel {display: flex;align-items: stretch;justify-content: center;background-color: white;position: relative;}#sk-container-id-2 div.sk-item::before, #sk-container-id-2 div.sk-parallel-item::before {content: \"\";position: absolute;border-left: 1px solid gray;box-sizing: border-box;top: 0;bottom: 0;left: 50%;z-index: -1;}#sk-container-id-2 div.sk-parallel-item {display: flex;flex-direction: column;z-index: 1;position: relative;background-color: white;}#sk-container-id-2 div.sk-parallel-item:first-child::after {align-self: flex-end;width: 50%;}#sk-container-id-2 div.sk-parallel-item:last-child::after {align-self: flex-start;width: 50%;}#sk-container-id-2 div.sk-parallel-item:only-child::after {width: 0;}#sk-container-id-2 div.sk-dashed-wrapped {border: 1px dashed gray;margin: 0 0.4em 0.5em 0.4em;box-sizing: border-box;padding-bottom: 0.4em;background-color: white;}#sk-container-id-2 div.sk-label label {font-family: monospace;font-weight: bold;display: inline-block;line-height: 1.2em;}#sk-container-id-2 div.sk-label-container {text-align: center;}#sk-container-id-2 div.sk-container {/* jupyter's `normalize.less` sets `[hidden] { display: none; }` but bootstrap.min.css set `[hidden] { display: none !important; }` so we also need the `!important` here to be able to override the default hidden behavior on the sphinx rendered scikit-learn.org. See: https://github.com/scikit-learn/scikit-learn/issues/21755 */display: inline-block !important;position: relative;}#sk-container-id-2 div.sk-text-repr-fallback {display: none;}</style><div id=\"sk-container-id-2\" class=\"sk-top-container\"><div class=\"sk-text-repr-fallback\"><pre>NMF(init=&#x27;nndsvda&#x27;, n_components=4, random_state=0)</pre><b>In a Jupyter environment, please rerun this cell to show the HTML representation or trust the notebook. <br />On GitHub, the HTML representation is unable to render, please try loading this page with nbviewer.org.</b></div><div class=\"sk-container\" hidden><div class=\"sk-item\"><div class=\"sk-estimator sk-toggleable\"><input class=\"sk-toggleable__control sk-hidden--visually\" id=\"sk-estimator-id-2\" type=\"checkbox\" checked><label for=\"sk-estimator-id-2\" class=\"sk-toggleable__label sk-toggleable__label-arrow\">NMF</label><div class=\"sk-toggleable__content\"><pre>NMF(init=&#x27;nndsvda&#x27;, n_components=4, random_state=0)</pre></div></div></div></div></div>"
      ],
      "text/plain": [
       "NMF(init='nndsvda', n_components=4, random_state=0)"
      ]
     },
     "execution_count": 72,
     "metadata": {},
     "output_type": "execute_result"
    }
   ],
   "source": [
    "nmfs['shot']"
   ]
  },
  {
   "cell_type": "markdown",
   "metadata": {},
   "source": [
    "O objetivo dessa parte é realizar a decomposição dos vetores de mapas de calor usando  a técnica de decomposição em componentes não negativos, permitindo a identificação de padrões e características relevantes nos dados. Esses componentes são capazes de descrever melhor a variação nos mapas de calor. Essa etapa está relacionada às subseções \"4.3 - Compressing Heatmaps to Vectors\" e \"4.4 Assembling Player Vectors\" do artigo."
   ]
  },
  {
   "cell_type": "markdown",
   "metadata": {},
   "source": [
    "### Reconstruction Evaluation"
   ]
  },
  {
   "cell_type": "code",
   "execution_count": 22,
   "metadata": {},
   "outputs": [
    {
     "name": "stdout",
     "output_type": "stream",
     "text": [
      "shot Reconstruction evaluation\n",
      "\n",
      "Reconstruction error from NMF object: 1.322487922632152\n",
      "Manual reconstruction error: 1.322487918480089\n",
      "Mean reconstruction error: 0.0033062197962002225\n",
      "--------------------------------\n",
      "\n",
      "pass Reconstruction evaluation\n",
      "\n",
      "Reconstruction error from NMF object: 28.196261893627756\n",
      "Manual reconstruction error: 28.196261647153566\n",
      "Mean reconstruction error: 0.035245327058941955\n",
      "--------------------------------\n",
      "\n",
      "cross Reconstruction evaluation\n",
      "\n",
      "Reconstruction error from NMF object: 2.3365384800195814\n",
      "Manual reconstruction error: 2.336538445866538\n",
      "Mean reconstruction error: 0.005841346114666345\n",
      "--------------------------------\n",
      "\n",
      "dribble Reconstruction evaluation\n",
      "\n",
      "Reconstruction error from NMF object: 4.008096593968764\n",
      "Manual reconstruction error: 4.008096580590021\n",
      "Mean reconstruction error: 0.010020241451475051\n",
      "--------------------------------\n",
      "\n"
     ]
    }
   ],
   "source": [
    "for act_type in action_types:\n",
    "    print('{} Reconstruction evaluation\\n'.format(act_type))\n",
    "    print('Reconstruction error from NMF object: {}'.format(nmfs[act_type].reconstruction_err_))\n",
    "    reconst_vectors = np.dot(nmfs[act_type].components_.T, nmfs[act_type].transform(concat_vectors[act_type]).T).T\n",
    "    reconst_error = np.sqrt(np.sum((concat_vectors[act_type] - reconst_vectors) ** 2))\n",
    "    print('Manual reconstruction error: {}'.format(reconst_error))\n",
    "    print('Mean reconstruction error: {}'.format(reconst_error / (concat_vectors[act_type].shape[1])))\n",
    "    print('--------------------------------\\n')"
   ]
  },
  {
   "cell_type": "markdown",
   "metadata": {},
   "source": [
    "Por meio da análise do erro, essas medidas avaliam o quanto a decomposição NMF consegue reconstruir os vetores de mapas de calor e a qualidade da reconstrução. Essas avaliações do modelo parecem não serem citadas diretamente no artigo."
   ]
  },
  {
   "cell_type": "markdown",
   "metadata": {},
   "source": [
    "### Deanonymization Evaluation"
   ]
  },
  {
   "cell_type": "code",
   "execution_count": 23,
   "metadata": {},
   "outputs": [],
   "source": [
    "matches_1st = {}\n",
    "matches_2nd = {}\n",
    "spadl_1st = {}\n",
    "spadl_2nd = {}\n",
    "season_minutes_1st = {}\n",
    "season_minutes_2nd = {}\n",
    "for league in leagues:\n",
    "    matches[league] = matches[league].sort_values(by='dateutc').reset_index(drop=True)\n",
    "    matches_1st[league] = matches[league].loc[: int(len(matches[league]) / 2) - 1, 'wyId'].values.tolist()\n",
    "    matches_2nd[league] = matches[league].loc[int(len(matches[league]) / 2) :, 'wyId'].values.tolist()\n",
    "    season_minutes_1st[league] = calculate_minutes_per_season(game_minutes[league][game_minutes[league]['game_id'].isin(matches_1st[league])])\n",
    "    season_minutes_2nd[league] = calculate_minutes_per_season(game_minutes[league][game_minutes[league]['game_id'].isin(matches_2nd[league])])\n",
    "    season_minutes_1st[league] = season_minutes_1st[league][season_minutes_1st[league]['minutes_played'] >= 900]\n",
    "    season_minutes_2nd[league] = season_minutes_2nd[league][season_minutes_2nd[league]['minutes_played'] >= 900]\n",
    "    season_minutes_1st[league] = season_minutes_1st[league][season_minutes_1st[league]['player_id'].isin(season_minutes_2nd[league]['player_id'])]\n",
    "    season_minutes_2nd[league] = season_minutes_2nd[league][season_minutes_2nd[league]['player_id'].isin(season_minutes_1st[league]['player_id'])]\n",
    "    mask_1st = (spadl[league]['game_id'].isin(matches_1st[league])) & (spadl[league]['player_id'].isin(season_minutes_1st[league]['player_id']))\n",
    "    spadl_1st[league] = spadl[league][mask_1st]\n",
    "    mask_2nd = (spadl[league]['game_id'].isin(matches_2nd[league])) & (spadl[league]['player_id'].isin(season_minutes_2nd[league]['player_id']))\n",
    "    spadl_2nd[league] = spadl[league][mask_2nd]"
   ]
  },
  {
   "cell_type": "code",
   "execution_count": 24,
   "metadata": {},
   "outputs": [
    {
     "name": "stderr",
     "output_type": "stream",
     "text": [
      "100%|█████████████████████████████████████████| 144/144 [00:02<00:00, 53.25it/s]\n",
      "100%|█████████████████████████████████████████| 144/144 [00:02<00:00, 52.55it/s]\n",
      "100%|█████████████████████████████████████████| 144/144 [00:03<00:00, 44.02it/s]\n",
      "100%|█████████████████████████████████████████| 144/144 [00:03<00:00, 44.15it/s]\n",
      "100%|█████████████████████████████████████████| 144/144 [00:02<00:00, 57.58it/s]\n",
      "100%|█████████████████████████████████████████| 144/144 [00:02<00:00, 59.29it/s]\n",
      "100%|█████████████████████████████████████████| 144/144 [00:02<00:00, 57.01it/s]\n",
      "100%|█████████████████████████████████████████| 144/144 [00:02<00:00, 58.23it/s]\n",
      "100%|█████████████████████████████████████████| 154/154 [00:02<00:00, 52.27it/s]\n",
      "100%|█████████████████████████████████████████| 154/154 [00:02<00:00, 52.00it/s]\n",
      "100%|█████████████████████████████████████████| 154/154 [00:03<00:00, 42.88it/s]\n",
      "100%|█████████████████████████████████████████| 154/154 [00:03<00:00, 44.64it/s]\n",
      "100%|█████████████████████████████████████████| 154/154 [00:02<00:00, 57.50it/s]\n",
      "100%|█████████████████████████████████████████| 154/154 [00:02<00:00, 56.54it/s]\n",
      "100%|█████████████████████████████████████████| 154/154 [00:02<00:00, 51.74it/s]\n",
      "100%|█████████████████████████████████████████| 154/154 [00:02<00:00, 52.72it/s]\n"
     ]
    }
   ],
   "source": [
    "heatmaps_1st = {}\n",
    "heatmaps_2nd = {}\n",
    "for league in leagues:\n",
    "    heatmaps_1st[league] = {}\n",
    "    heatmaps_2nd[league] = {}\n",
    "    for at in action_types:\n",
    "        heatmaps_1st[league][at] = construct_heatmaps(spadl=spadl_1st[league], season_minutes=season_minutes_1st[league], action_type=at)\n",
    "        heatmaps_2nd[league][at] = construct_heatmaps(spadl=spadl_2nd[league], season_minutes=season_minutes_2nd[league], action_type=at)"
   ]
  },
  {
   "cell_type": "code",
   "execution_count": 25,
   "metadata": {},
   "outputs": [],
   "source": [
    "vectorized_heatmaps_1st = {}\n",
    "vectorized_heatmaps_2nd = {}\n",
    "for league in leagues:\n",
    "    vectorized_heatmaps_1st[league] = {}\n",
    "    vectorized_heatmaps_2nd[league] = {}\n",
    "    for act_type in action_types:\n",
    "        vectorized_heatmaps_1st[league][act_type] = heatmaps_to_vectors(heatmaps=heatmaps_1st[league][act_type], action_type=act_type)\n",
    "        vectorized_heatmaps_2nd[league][act_type] = heatmaps_to_vectors(heatmaps=heatmaps_2nd[league][act_type], action_type=act_type)"
   ]
  },
  {
   "cell_type": "code",
   "execution_count": 26,
   "metadata": {},
   "outputs": [],
   "source": [
    "def coefficients_transform(vectorized_heatmaps, nmf):\n",
    "    return nmf.transform(vectorized_heatmaps)"
   ]
  },
  {
   "cell_type": "code",
   "execution_count": 27,
   "metadata": {},
   "outputs": [],
   "source": [
    "vectorized_coefs_1st = {}\n",
    "vectorized_coefs_2nd = {}\n",
    "for league in leagues:\n",
    "    vectorized_coefs_1st[league] = {}\n",
    "    vectorized_coefs_2nd[league] = {}\n",
    "    for act_type in action_types:\n",
    "        vectorized_coefs_1st[league][act_type] = coefficients_transform(vectorized_heatmaps=vectorized_heatmaps_1st[league][act_type], nmf=nmfs[act_type])\n",
    "        vectorized_coefs_2nd[league][act_type] = coefficients_transform(vectorized_heatmaps=vectorized_heatmaps_2nd[league][act_type], nmf=nmfs[act_type])"
   ]
  },
  {
   "cell_type": "code",
   "execution_count": 28,
   "metadata": {},
   "outputs": [],
   "source": [
    "player_vectors_1st = {}\n",
    "player_vectors_2nd = {}\n",
    "for league in leagues:\n",
    "    player_vectors_1st[league] = np.concatenate([vectorized_coefs_1st[league][act_type] for act_type in action_types], axis=1)\n",
    "    player_vectors_2nd[league] = np.concatenate([vectorized_coefs_2nd[league][act_type] for act_type in action_types], axis=1)"
   ]
  },
  {
   "cell_type": "code",
   "execution_count": 29,
   "metadata": {},
   "outputs": [],
   "source": [
    "player_vectors_1st = np.concatenate([player_vectors_1st[league] for league in leagues])\n",
    "player_vectors_2nd = np.concatenate([player_vectors_2nd[league] for league in leagues])"
   ]
  },
  {
   "cell_type": "code",
   "execution_count": 30,
   "metadata": {},
   "outputs": [],
   "source": [
    "player_ids = []\n",
    "for league in leagues:\n",
    "    player_ids += list(heatmaps_1st[league]['shot'].keys())"
   ]
  },
  {
   "cell_type": "code",
   "execution_count": 31,
   "metadata": {},
   "outputs": [],
   "source": [
    "from sklearn.metrics import pairwise_distances"
   ]
  },
  {
   "cell_type": "code",
   "execution_count": 32,
   "metadata": {},
   "outputs": [],
   "source": [
    "D = pairwise_distances(player_vectors_1st, player_vectors_2nd, metric=\"manhattan\")\n",
    "\n",
    "# sort each row\n",
    "# k_d = np.sort(D, axis=1)\n",
    "# sort each row and replace distances by index\n",
    "k_i = np.argsort(D, axis=1)\n",
    "# replace indices by player ids\n",
    "p_i = np.take(player_ids, k_i, axis=0)\n",
    "\n",
    "rs = np.argmax(np.array([p_i[i, :] == player_ids[i] for i in range(p_i.shape[0])]), axis=1)\n",
    "\n",
    "def mean_reciprocal_rank(rs):\n",
    "    return np.mean(1. / (rs + 1))\n",
    "\n",
    "def top_k(rs, k):\n",
    "    return (rs < k).sum() / len(rs)\n",
    "\n",
    "mrr = mean_reciprocal_rank(rs)\n",
    "top1 = top_k(rs, 1)\n",
    "top3 = top_k(rs, 3)\n",
    "top5 = top_k(rs, 5)\n",
    "top10 = top_k(rs, 10)"
   ]
  },
  {
   "cell_type": "code",
   "execution_count": 33,
   "metadata": {},
   "outputs": [
    {
     "name": "stdout",
     "output_type": "stream",
     "text": [
      "Top 1 = 38.3%\n",
      "Top 3 = 61.4%\n",
      "Top 5 = 70.5%\n",
      "Top 10 = 81.9%\n",
      "MRR = 0.532\n"
     ]
    }
   ],
   "source": [
    "print('Top 1 = {}%'.format(round(top1 * 100, 1)))\n",
    "print('Top 3 = {}%'.format(round(top3 * 100, 1)))\n",
    "print('Top 5 = {}%'.format(round(top5 * 100, 1)))\n",
    "print('Top 10 = {}%'.format(round(top10 * 100, 1)))\n",
    "print('MRR = {}'.format(round(mrr, 3)))"
   ]
  },
  {
   "cell_type": "code",
   "execution_count": 80,
   "metadata": {},
   "outputs": [
    {
     "data": {
      "text/plain": [
       "(array([[0.00223934, 0.03153931, 0.        , ..., 0.31423043, 0.01300391,\n",
       "         0.        ],\n",
       "        [0.05245532, 0.14259178, 0.02865733, ..., 0.06975531, 0.03257529,\n",
       "         0.03597058],\n",
       "        [0.        , 0.08422903, 0.13241026, ..., 0.02571046, 0.        ,\n",
       "         0.        ],\n",
       "        ...,\n",
       "        [0.01824185, 0.07307706, 0.13711788, ..., 0.0328364 , 0.        ,\n",
       "         0.04994868],\n",
       "        [0.15915945, 0.0202695 , 0.04029585, ..., 0.03100956, 0.01243341,\n",
       "         0.        ],\n",
       "        [0.02652117, 0.08702844, 0.03914576, ..., 0.050896  , 0.04752885,\n",
       "         0.03426575]]),\n",
       " array([[0.01578703, 0.03544184, 0.        , ..., 0.23874233, 0.        ,\n",
       "         0.        ],\n",
       "        [0.02101294, 0.12642155, 0.0500112 , ..., 0.03289293, 0.00354506,\n",
       "         0.02662011],\n",
       "        [0.02433582, 0.04331273, 0.04824659, ..., 0.01484839, 0.05173633,\n",
       "         0.        ],\n",
       "        ...,\n",
       "        [0.0334481 , 0.0682535 , 0.08170318, ..., 0.0062797 , 0.        ,\n",
       "         0.06623623],\n",
       "        [0.20628861, 0.03615499, 0.01142086, ..., 0.03416249, 0.00868451,\n",
       "         0.0070149 ],\n",
       "        [0.03735632, 0.128182  , 0.0263917 , ..., 0.02119456, 0.04773006,\n",
       "         0.05287876]]))"
      ]
     },
     "execution_count": 80,
     "metadata": {},
     "output_type": "execute_result"
    }
   ],
   "source": [
    "player_vectors_1st, player_vectors_2nd"
   ]
  },
  {
   "cell_type": "code",
   "execution_count": 81,
   "metadata": {},
   "outputs": [
    {
     "name": "stdout",
     "output_type": "stream",
     "text": [
      "Matriz de distancias: \n",
      " [[0.         2.63187925 2.25151601 ... 1.63646291 2.02007184 1.74066137]\n",
      " [2.63187925 0.         2.18746624 ... 1.57147685 1.66012994 2.32987327]\n",
      " [2.25151601 2.18746624 0.         ... 1.39673056 1.10039074 1.74218632]\n",
      " ...\n",
      " [1.63646291 1.57147685 1.39673056 ... 0.         1.34622377 1.72432651]\n",
      " [2.02007184 1.66012994 1.10039074 ... 1.34622377 0.         1.58850405]\n",
      " [1.74066137 2.32987327 1.74218632 ... 1.72432651 1.58850405 0.        ]]\n"
     ]
    }
   ],
   "source": [
    "print(\"Matriz de distancias: \\n\", D)"
   ]
  },
  {
   "cell_type": "markdown",
   "metadata": {},
   "source": [
    "Nessa etapa, primeiramente realiza-se a divisão dos dados em duas partes, cada uma correspondendo a uma metade do campeonato. Em seguida, a matriz de distâncias é calculada entre os vetores de jogadores da primeira parte e da segunda parte da temporada, utilizando a métrica de distância de Manhattan. Por fim, é verificado se o jogador aparece no topo de seu próprio rank, o que é um indício de que o estilo do jogador foi caracterizado com sucesso. Essa parte do código está mais relacionada à subseção \"5.4 Player Retrieval from Anonymized Match Event Stream Data\" do artigo."
   ]
  },
  {
   "cell_type": "markdown",
   "metadata": {},
   "source": [
    "### Explore Similar Players"
   ]
  },
  {
   "cell_type": "code",
   "execution_count": 34,
   "metadata": {},
   "outputs": [],
   "source": [
    "vectorized_coefs = {}\n",
    "for league in leagues:\n",
    "    vectorized_coefs[league] = {}\n",
    "    for act_type in action_types:\n",
    "        vectorized_coefs[league][act_type] = coefficients_transform(vectorized_heatmaps=vectorized_heatmaps[league][act_type], nmf=nmfs[act_type])"
   ]
  },
  {
   "cell_type": "code",
   "execution_count": 35,
   "metadata": {},
   "outputs": [],
   "source": [
    "player_vectors = {}\n",
    "for league in leagues:\n",
    "    player_vectors[league] = np.concatenate([vectorized_coefs[league][act_type] for act_type in action_types], axis=1)"
   ]
  },
  {
   "cell_type": "code",
   "execution_count": 36,
   "metadata": {},
   "outputs": [],
   "source": [
    "player_vectors = np.concatenate([player_vectors[league] for league in leagues])"
   ]
  },
  {
   "cell_type": "code",
   "execution_count": 37,
   "metadata": {},
   "outputs": [],
   "source": [
    "player_ids = []\n",
    "for league in leagues:\n",
    "    player_ids += list(heatmaps[league]['shot'].keys())"
   ]
  },
  {
   "cell_type": "code",
   "execution_count": 38,
   "metadata": {},
   "outputs": [],
   "source": [
    "D = pairwise_distances(player_vectors, player_vectors, metric=\"manhattan\")\n",
    "# sort each row\n",
    "# k_d = np.sort(D, axis=1)\n",
    "# sort each row and replace distances by index\n",
    "k_i = np.argsort(D, axis=1)\n",
    "# replace indices by player ids\n",
    "p_i = np.take(player_ids, k_i, axis=0)"
   ]
  },
  {
   "cell_type": "code",
   "execution_count": 39,
   "metadata": {},
   "outputs": [],
   "source": [
    "similar_players = pd.DataFrame(data=p_i[:, : 11], columns=['player_id'] + ['{}th_similar'.format(i) for i in range(1, 11)])"
   ]
  },
  {
   "cell_type": "code",
   "execution_count": 40,
   "metadata": {},
   "outputs": [],
   "source": [
    "players = players[players['player_id'].isin(similar_players['player_id'])].reset_index(drop=True)"
   ]
  },
  {
   "cell_type": "code",
   "execution_count": 41,
   "metadata": {},
   "outputs": [],
   "source": [
    "id_to_name = {}\n",
    "for i in range(len(players)):\n",
    "    id_to_name[players.loc[i, 'player_id']] = players.loc[i, 'player_name']"
   ]
  },
  {
   "cell_type": "code",
   "execution_count": 42,
   "metadata": {},
   "outputs": [],
   "source": [
    "similar_players = similar_players.replace(id_to_name)"
   ]
  },
  {
   "cell_type": "code",
   "execution_count": 88,
   "metadata": {},
   "outputs": [
    {
     "data": {
      "text/html": [
       "<div>\n",
       "<style scoped>\n",
       "    .dataframe tbody tr th:only-of-type {\n",
       "        vertical-align: middle;\n",
       "    }\n",
       "\n",
       "    .dataframe tbody tr th {\n",
       "        vertical-align: top;\n",
       "    }\n",
       "\n",
       "    .dataframe thead th {\n",
       "        text-align: right;\n",
       "    }\n",
       "</style>\n",
       "<table border=\"1\" class=\"dataframe\">\n",
       "  <thead>\n",
       "    <tr style=\"text-align: right;\">\n",
       "      <th></th>\n",
       "      <th>player_id</th>\n",
       "      <th>1th_similar</th>\n",
       "      <th>2th_similar</th>\n",
       "      <th>3th_similar</th>\n",
       "      <th>4th_similar</th>\n",
       "      <th>5th_similar</th>\n",
       "      <th>6th_similar</th>\n",
       "      <th>7th_similar</th>\n",
       "      <th>8th_similar</th>\n",
       "      <th>9th_similar</th>\n",
       "      <th>10th_similar</th>\n",
       "    </tr>\n",
       "  </thead>\n",
       "  <tbody>\n",
       "    <tr>\n",
       "      <th>338</th>\n",
       "      <td>Lionel Andrés Messi Cuccittini</td>\n",
       "      <td>Christian  Dannemann Eriksen</td>\n",
       "      <td>Erik Lamela</td>\n",
       "      <td>Álvaro Borja Morata Martín</td>\n",
       "      <td>Eden Hazard</td>\n",
       "      <td>Rodrigo Moreno Machado</td>\n",
       "      <td>Gerard Moreno Balaguero</td>\n",
       "      <td>Romelu Lukaku Menama</td>\n",
       "      <td>Roberto Firmino Barbosa de Oliveira</td>\n",
       "      <td>Aaron Ramsey</td>\n",
       "      <td>Antoine Griezmann</td>\n",
       "    </tr>\n",
       "  </tbody>\n",
       "</table>\n",
       "</div>"
      ],
      "text/plain": [
       "                          player_id                   1th_similar  \\\n",
       "338  Lionel Andrés Messi Cuccittini  Christian  Dannemann Eriksen   \n",
       "\n",
       "     2th_similar                 3th_similar  4th_similar  \\\n",
       "338  Erik Lamela  Álvaro Borja Morata Martín  Eden Hazard   \n",
       "\n",
       "                5th_similar              6th_similar           7th_similar  \\\n",
       "338  Rodrigo Moreno Machado  Gerard Moreno Balaguero  Romelu Lukaku Menama   \n",
       "\n",
       "                             8th_similar   9th_similar       10th_similar  \n",
       "338  Roberto Firmino Barbosa de Oliveira  Aaron Ramsey  Antoine Griezmann  "
      ]
     },
     "execution_count": 88,
     "metadata": {},
     "output_type": "execute_result"
    }
   ],
   "source": [
    "similar_players[similar_players[\"player_id\"] == \"Lionel Andrés Messi Cuccittini\"]"
   ]
  },
  {
   "cell_type": "code",
   "execution_count": 94,
   "metadata": {},
   "outputs": [
    {
     "data": {
      "text/html": [
       "<div>\n",
       "<style scoped>\n",
       "    .dataframe tbody tr th:only-of-type {\n",
       "        vertical-align: middle;\n",
       "    }\n",
       "\n",
       "    .dataframe tbody tr th {\n",
       "        vertical-align: top;\n",
       "    }\n",
       "\n",
       "    .dataframe thead th {\n",
       "        text-align: right;\n",
       "    }\n",
       "</style>\n",
       "<table border=\"1\" class=\"dataframe\">\n",
       "  <thead>\n",
       "    <tr style=\"text-align: right;\">\n",
       "      <th></th>\n",
       "      <th>player_id</th>\n",
       "      <th>1th_similar</th>\n",
       "      <th>2th_similar</th>\n",
       "      <th>3th_similar</th>\n",
       "      <th>4th_similar</th>\n",
       "      <th>5th_similar</th>\n",
       "      <th>6th_similar</th>\n",
       "      <th>7th_similar</th>\n",
       "      <th>8th_similar</th>\n",
       "      <th>9th_similar</th>\n",
       "      <th>10th_similar</th>\n",
       "    </tr>\n",
       "  </thead>\n",
       "  <tbody>\n",
       "    <tr>\n",
       "      <th>326</th>\n",
       "      <td>Cristiano Ronaldo dos Santos Aveiro</td>\n",
       "      <td>Luis Fernando Muriel Fruto</td>\n",
       "      <td>Sergio Leonel Agüero del Castillo</td>\n",
       "      <td>El-Hadji Baye Oumar Niasse</td>\n",
       "      <td>Luis Alberto Suárez Díaz</td>\n",
       "      <td>Pierre-Emerick Aubameyang</td>\n",
       "      <td>Florin Andone</td>\n",
       "      <td>Heung-Min Son</td>\n",
       "      <td>Wissam Ben Yedder</td>\n",
       "      <td>Enrique García Martínez</td>\n",
       "      <td>Diego Alejandro Rolán Silva</td>\n",
       "    </tr>\n",
       "  </tbody>\n",
       "</table>\n",
       "</div>"
      ],
      "text/plain": [
       "                               player_id                 1th_similar  \\\n",
       "326  Cristiano Ronaldo dos Santos Aveiro  Luis Fernando Muriel Fruto   \n",
       "\n",
       "                           2th_similar                 3th_similar  \\\n",
       "326  Sergio Leonel Agüero del Castillo  El-Hadji Baye Oumar Niasse   \n",
       "\n",
       "                  4th_similar                5th_similar    6th_similar  \\\n",
       "326  Luis Alberto Suárez Díaz  Pierre-Emerick Aubameyang  Florin Andone   \n",
       "\n",
       "       7th_similar        8th_similar              9th_similar  \\\n",
       "326  Heung-Min Son  Wissam Ben Yedder  Enrique García Martínez   \n",
       "\n",
       "                    10th_similar  \n",
       "326  Diego Alejandro Rolán Silva  "
      ]
     },
     "execution_count": 94,
     "metadata": {},
     "output_type": "execute_result"
    }
   ],
   "source": [
    "similar_players[similar_players[\"player_id\"] == \"Cristiano Ronaldo dos Santos Aveiro\"]"
   ]
  },
  {
   "cell_type": "code",
   "execution_count": 106,
   "metadata": {},
   "outputs": [
    {
     "data": {
      "text/html": [
       "<div>\n",
       "<style scoped>\n",
       "    .dataframe tbody tr th:only-of-type {\n",
       "        vertical-align: middle;\n",
       "    }\n",
       "\n",
       "    .dataframe tbody tr th {\n",
       "        vertical-align: top;\n",
       "    }\n",
       "\n",
       "    .dataframe thead th {\n",
       "        text-align: right;\n",
       "    }\n",
       "</style>\n",
       "<table border=\"1\" class=\"dataframe\">\n",
       "  <thead>\n",
       "    <tr style=\"text-align: right;\">\n",
       "      <th></th>\n",
       "      <th>player_id</th>\n",
       "      <th>1th_similar</th>\n",
       "      <th>2th_similar</th>\n",
       "      <th>3th_similar</th>\n",
       "      <th>4th_similar</th>\n",
       "      <th>5th_similar</th>\n",
       "      <th>6th_similar</th>\n",
       "      <th>7th_similar</th>\n",
       "      <th>8th_similar</th>\n",
       "      <th>9th_similar</th>\n",
       "      <th>10th_similar</th>\n",
       "    </tr>\n",
       "  </thead>\n",
       "  <tbody>\n",
       "    <tr>\n",
       "      <th>336</th>\n",
       "      <td>Andrés Iniesta Luján</td>\n",
       "      <td>Borja García Freire</td>\n",
       "      <td>Toni Kroos</td>\n",
       "      <td>Jonathan Viera Ramos</td>\n",
       "      <td>İlkay Gündoğan</td>\n",
       "      <td>Manuel Lanzini</td>\n",
       "      <td>Jeffrey  Schlupp</td>\n",
       "      <td>Robert Kenedy Nunes do Nascimento</td>\n",
       "      <td>Tom Carroll</td>\n",
       "      <td>Philippe Coutinho Correia</td>\n",
       "      <td>David Josué Jiménez Silva</td>\n",
       "    </tr>\n",
       "  </tbody>\n",
       "</table>\n",
       "</div>"
      ],
      "text/plain": [
       "                player_id          1th_similar 2th_similar  \\\n",
       "336  Andrés Iniesta Luján  Borja García Freire  Toni Kroos   \n",
       "\n",
       "              3th_similar     4th_similar     5th_similar       6th_similar  \\\n",
       "336  Jonathan Viera Ramos  İlkay Gündoğan  Manuel Lanzini  Jeffrey  Schlupp   \n",
       "\n",
       "                           7th_similar  8th_similar  \\\n",
       "336  Robert Kenedy Nunes do Nascimento  Tom Carroll   \n",
       "\n",
       "                   9th_similar               10th_similar  \n",
       "336  Philippe Coutinho Correia  David Josué Jiménez Silva  "
      ]
     },
     "execution_count": 106,
     "metadata": {},
     "output_type": "execute_result"
    }
   ],
   "source": [
    "similar_players[similar_players[\"player_id\"] == \"Andrés Iniesta Luján\"]"
   ]
  },
  {
   "cell_type": "code",
   "execution_count": 109,
   "metadata": {},
   "outputs": [
    {
     "data": {
      "text/html": [
       "<div>\n",
       "<style scoped>\n",
       "    .dataframe tbody tr th:only-of-type {\n",
       "        vertical-align: middle;\n",
       "    }\n",
       "\n",
       "    .dataframe tbody tr th {\n",
       "        vertical-align: top;\n",
       "    }\n",
       "\n",
       "    .dataframe thead th {\n",
       "        text-align: right;\n",
       "    }\n",
       "</style>\n",
       "<table border=\"1\" class=\"dataframe\">\n",
       "  <thead>\n",
       "    <tr style=\"text-align: right;\">\n",
       "      <th></th>\n",
       "      <th>player_id</th>\n",
       "      <th>1th_similar</th>\n",
       "      <th>2th_similar</th>\n",
       "      <th>3th_similar</th>\n",
       "      <th>4th_similar</th>\n",
       "      <th>5th_similar</th>\n",
       "      <th>6th_similar</th>\n",
       "      <th>7th_similar</th>\n",
       "      <th>8th_similar</th>\n",
       "      <th>9th_similar</th>\n",
       "      <th>10th_similar</th>\n",
       "    </tr>\n",
       "  </thead>\n",
       "  <tbody>\n",
       "    <tr>\n",
       "      <th>472</th>\n",
       "      <td>Luka Modrić</td>\n",
       "      <td>Ivan Rakitić</td>\n",
       "      <td>Francesc Fàbregas i Soler</td>\n",
       "      <td>Fabián Ruiz Peña</td>\n",
       "      <td>Victor Wanyama</td>\n",
       "      <td>Ander Herrera Agüera</td>\n",
       "      <td>Emre Can</td>\n",
       "      <td>Leroy Fer</td>\n",
       "      <td>Jake Livermore</td>\n",
       "      <td>Gabriel Fernández Arenas</td>\n",
       "      <td>Jordan Brian Henderson</td>\n",
       "    </tr>\n",
       "  </tbody>\n",
       "</table>\n",
       "</div>"
      ],
      "text/plain": [
       "       player_id   1th_similar                2th_similar       3th_similar  \\\n",
       "472  Luka Modrić  Ivan Rakitić  Francesc Fàbregas i Soler  Fabián Ruiz Peña   \n",
       "\n",
       "        4th_similar           5th_similar 6th_similar 7th_similar  \\\n",
       "472  Victor Wanyama  Ander Herrera Agüera    Emre Can   Leroy Fer   \n",
       "\n",
       "        8th_similar               9th_similar            10th_similar  \n",
       "472  Jake Livermore  Gabriel Fernández Arenas  Jordan Brian Henderson  "
      ]
     },
     "execution_count": 109,
     "metadata": {},
     "output_type": "execute_result"
    }
   ],
   "source": [
    "similar_players[similar_players[\"player_id\"] == \"Luka Modrić\"]"
   ]
  },
  {
   "cell_type": "markdown",
   "metadata": {},
   "source": [
    "Essa parte do código busca encontrar jogadores similares com base em seus vetores de coeficientes.\n",
    "Alguns dos passos realizados são: transformação dos vetores de mapas de calor em vetores de coeficientes, cálculo das distâncias entre os vetores de jogadores usando a métrica de distância de Manhattan, ordenação das distâncias,  substituição dos índices pelos nomes e criação de um DataFrame com os jogadores mais similares para cada jogador. Isso permite explorar jogadores com estilos de jogo semelhantes, facilitando a identificação de padrões e é relativamente similar à subseção \"5.2 Scouting\" do artigo."
   ]
  }
 ],
 "metadata": {
  "kernelspec": {
   "display_name": "Python 3 (ipykernel)",
   "language": "python",
   "name": "python3"
  },
  "language_info": {
   "codemirror_mode": {
    "name": "ipython",
    "version": 3
   },
   "file_extension": ".py",
   "mimetype": "text/x-python",
   "name": "python",
   "nbconvert_exporter": "python",
   "pygments_lexer": "ipython3",
   "version": "3.8.10"
  }
 },
 "nbformat": 4,
 "nbformat_minor": 1
}
