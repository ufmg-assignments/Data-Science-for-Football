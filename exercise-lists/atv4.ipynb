{
 "cells": [
  {
   "cell_type": "markdown",
   "metadata": {},
   "source": [
    "# [CDAF] Atividade 4"
   ]
  },
  {
   "cell_type": "markdown",
   "metadata": {},
   "source": [
    "## Nome e matrícula\n",
    "Nome: Arthur Pontes Nader\n",
    "Matrícula: 2019022294"
   ]
  },
  {
   "cell_type": "markdown",
   "metadata": {},
   "source": [
    "## Referências\n",
    "- [1] https://scikit-learn.org/stable/modules/generated/sklearn.linear_model.LogisticRegression.html\n",
    "- [2] https://socceraction.readthedocs.io/en/latest/api/generated/socceraction.xthreat.ExpectedThreat.html#socceraction.xthreat.ExpectedThreat\n",
    "- [3] https://socceraction.readthedocs.io/en/latest/api/generated/socceraction.xthreat.get_successful_move_actions.html#socceraction.xthreat.get_successful_move_actions\n",
    "- [4] https://socceraction.readthedocs.io/en/latest/documentation/valuing_actions/xT.html"
   ]
  },
  {
   "cell_type": "code",
   "execution_count": 1,
   "metadata": {},
   "outputs": [],
   "source": [
    "# Importando bibliotecas\n",
    "from tqdm import tqdm\n",
    "import numpy as np\n",
    "import pandas as pd\n",
    "import socceraction.spadl as spd\n",
    "from socceraction import xthreat as xt"
   ]
  },
  {
   "cell_type": "markdown",
   "metadata": {},
   "source": [
    "### LaLiga  p/ SPADL com pré-processamentos"
   ]
  },
  {
   "cell_type": "code",
   "execution_count": 2,
   "metadata": {},
   "outputs": [],
   "source": [
    "# carregando os eventos\n",
    "path = r'/home/arthur/Futebol/events_Spain.json'\n",
    "events = pd.read_json(path_or_buf=path)"
   ]
  },
  {
   "cell_type": "code",
   "execution_count": 3,
   "metadata": {},
   "outputs": [],
   "source": [
    "# pré processamento em colunas da tabela de eventos para facilitar a conversão p/ SPADL\n",
    "events = events.rename(columns={'id': 'event_id', 'eventId': 'type_id', 'subEventId': 'subtype_id',\n",
    "                                'teamId': 'team_id', 'playerId': 'player_id', 'matchId': 'game_id'})\n",
    "events['milliseconds'] = events['eventSec'] * 1000\n",
    "events['period_id'] = events['matchPeriod'].replace({'1H': 1, '2H': 2})"
   ]
  },
  {
   "cell_type": "code",
   "execution_count": 4,
   "metadata": {},
   "outputs": [],
   "source": [
    "# carregando as partidas, pois vamos saber quais times jogam em casa e fora p/ usar como parametro do SPADL\n",
    "path = r'/home/arthur/Futebol/matches_Spain.json'\n",
    "matches = pd.read_json(path_or_buf=path)"
   ]
  },
  {
   "cell_type": "code",
   "execution_count": 5,
   "metadata": {},
   "outputs": [
    {
     "name": "stderr",
     "output_type": "stream",
     "text": [
      "100%|████████████████████████████████████████| 380/380 [00:01<00:00, 237.59it/s]\n"
     ]
    }
   ],
   "source": [
    "# as informações dos times de cada partida estão em um dicionário dentro da coluna 'teamsData', então vamos separar essas informações\n",
    "team_matches = []\n",
    "for i in tqdm(range(len(matches))):\n",
    "    match = pd.DataFrame(matches.loc[i, 'teamsData']).T\n",
    "    match['matchId'] = matches.loc[i, 'wyId']\n",
    "    team_matches.append(match)\n",
    "team_matches = pd.concat(team_matches).reset_index(drop=True)"
   ]
  },
  {
   "cell_type": "code",
   "execution_count": 6,
   "metadata": {},
   "outputs": [
    {
     "name": "stderr",
     "output_type": "stream",
     "text": [
      "100%|█████████████████████████████████████████| 380/380 [07:11<00:00,  1.14s/it]\n"
     ]
    }
   ],
   "source": [
    "# fazendo a conversão p/ SPADL, padronizando a direção de jogo da esquerda p/ a direita e adicionando os nomes dos tipos de ações\n",
    "spadl = []\n",
    "game_ids = events.game_id.unique().tolist()\n",
    "for g in tqdm(game_ids):\n",
    "    match_events = events.loc[events.game_id == g]\n",
    "    match_home_id = team_matches.loc[(team_matches.matchId == g) & (team_matches.side == 'home'), 'teamId'].values[0]\n",
    "    match_actions = spd.wyscout.convert_to_actions(events=match_events, home_team_id=match_home_id)\n",
    "    match_actions = spd.play_left_to_right(actions=match_actions, home_team_id=match_home_id)\n",
    "    match_actions = spd.add_names(match_actions)\n",
    "    spadl.append(match_actions)\n",
    "spadl = pd.concat(spadl).reset_index(drop=True)"
   ]
  },
  {
   "cell_type": "code",
   "execution_count": 7,
   "metadata": {},
   "outputs": [],
   "source": [
    "# adicionando o nome dos jogadores\n",
    "path = r'/home/arthur/Futebol/players.json'\n",
    "players = pd.read_json(path_or_buf=path)\n",
    "players['player_name'] = players['firstName'] + ' ' + players['lastName']\n",
    "players = players[['wyId', 'player_name']].rename(columns={'wyId': 'player_id'})\n",
    "spadl = spadl.merge(players, on='player_id', how='left')"
   ]
  },
  {
   "cell_type": "markdown",
   "metadata": {},
   "source": [
    "## Questão 1\n",
    "- Crei um dataframe \"shots\" à partir do dataframe \"spadl\", contendo apenas os chutes.\n",
    "- Crie 4 colunas no dataframe \"shots\" a serem usadas como features de um modelo de xG.\n",
    "- Justifique a escolha das features."
   ]
  },
  {
   "cell_type": "code",
   "execution_count": 8,
   "metadata": {},
   "outputs": [],
   "source": [
    "shots = spadl[spadl[\"type_name\"] == \"shot\"].copy()"
   ]
  },
  {
   "cell_type": "code",
   "execution_count": 9,
   "metadata": {},
   "outputs": [],
   "source": [
    "#Features baseadas nos parametros do chute\n",
    "\n",
    "shots[\"distancia\"] = np.sqrt(np.square(105 - shots[\"start_x\"].copy()) + np.square(34 - shots[\"start_y\"].copy()))\n",
    "shots[\"angulo_gol\"] = np.arctan2(34 - shots[\"start_y\"], 105 - shots[\"start_x\"])\n",
    "shots[\"distancia.angulo_gol\"] = shots[\"distancia\"].copy()*shots[\"angulo_gol\"].copy()\n",
    "shots[\"angulo_chute\"] = np.arctan2(shots[\"end_y\"].copy() - shots[\"start_y\"].copy(), shots[\"end_x\"].copy() - shots[\"start_x\"].copy())"
   ]
  },
  {
   "cell_type": "code",
   "execution_count": 10,
   "metadata": {},
   "outputs": [
    {
     "data": {
      "text/html": [
       "<div>\n",
       "<style scoped>\n",
       "    .dataframe tbody tr th:only-of-type {\n",
       "        vertical-align: middle;\n",
       "    }\n",
       "\n",
       "    .dataframe tbody tr th {\n",
       "        vertical-align: top;\n",
       "    }\n",
       "\n",
       "    .dataframe thead th {\n",
       "        text-align: right;\n",
       "    }\n",
       "</style>\n",
       "<table border=\"1\" class=\"dataframe\">\n",
       "  <thead>\n",
       "    <tr style=\"text-align: right;\">\n",
       "      <th></th>\n",
       "      <th>game_id</th>\n",
       "      <th>period_id</th>\n",
       "      <th>time_seconds</th>\n",
       "      <th>team_id</th>\n",
       "      <th>player_id</th>\n",
       "      <th>start_x</th>\n",
       "      <th>start_y</th>\n",
       "      <th>end_x</th>\n",
       "      <th>end_y</th>\n",
       "      <th>original_event_id</th>\n",
       "      <th>...</th>\n",
       "      <th>result_id</th>\n",
       "      <th>action_id</th>\n",
       "      <th>type_name</th>\n",
       "      <th>result_name</th>\n",
       "      <th>bodypart_name</th>\n",
       "      <th>player_name</th>\n",
       "      <th>distancia</th>\n",
       "      <th>angulo_gol</th>\n",
       "      <th>distancia.angulo_gol</th>\n",
       "      <th>angulo_chute</th>\n",
       "    </tr>\n",
       "  </thead>\n",
       "  <tbody>\n",
       "    <tr>\n",
       "      <th>20</th>\n",
       "      <td>2565548</td>\n",
       "      <td>1</td>\n",
       "      <td>57.771186</td>\n",
       "      <td>695</td>\n",
       "      <td>225089</td>\n",
       "      <td>97.65</td>\n",
       "      <td>44.88</td>\n",
       "      <td>105.0</td>\n",
       "      <td>34.00</td>\n",
       "      <td>180865315</td>\n",
       "      <td>...</td>\n",
       "      <td>0</td>\n",
       "      <td>20</td>\n",
       "      <td>shot</td>\n",
       "      <td>fail</td>\n",
       "      <td>foot</td>\n",
       "      <td>Jos\\u00e9 Luis Morales Nogales</td>\n",
       "      <td>13.130000</td>\n",
       "      <td>-0.976668</td>\n",
       "      <td>-12.823650</td>\n",
       "      <td>-0.976668</td>\n",
       "    </tr>\n",
       "    <tr>\n",
       "      <th>22</th>\n",
       "      <td>2565548</td>\n",
       "      <td>1</td>\n",
       "      <td>60.727239</td>\n",
       "      <td>695</td>\n",
       "      <td>255738</td>\n",
       "      <td>84.00</td>\n",
       "      <td>27.88</td>\n",
       "      <td>84.0</td>\n",
       "      <td>27.88</td>\n",
       "      <td>180864547</td>\n",
       "      <td>...</td>\n",
       "      <td>0</td>\n",
       "      <td>22</td>\n",
       "      <td>shot</td>\n",
       "      <td>fail</td>\n",
       "      <td>foot</td>\n",
       "      <td>Jefferson Andr\\u00e9s Lerma Sol\\u00eds</td>\n",
       "      <td>21.873601</td>\n",
       "      <td>0.283575</td>\n",
       "      <td>6.202799</td>\n",
       "      <td>0.000000</td>\n",
       "    </tr>\n",
       "    <tr>\n",
       "      <th>93</th>\n",
       "      <td>2565548</td>\n",
       "      <td>1</td>\n",
       "      <td>446.986112</td>\n",
       "      <td>682</td>\n",
       "      <td>37831</td>\n",
       "      <td>92.40</td>\n",
       "      <td>29.24</td>\n",
       "      <td>92.4</td>\n",
       "      <td>29.24</td>\n",
       "      <td>180864486</td>\n",
       "      <td>...</td>\n",
       "      <td>0</td>\n",
       "      <td>93</td>\n",
       "      <td>shot</td>\n",
       "      <td>fail</td>\n",
       "      <td>foot</td>\n",
       "      <td>Carlos Arturo Bacca Ahumada</td>\n",
       "      <td>13.469135</td>\n",
       "      <td>0.361204</td>\n",
       "      <td>4.865102</td>\n",
       "      <td>0.000000</td>\n",
       "    </tr>\n",
       "    <tr>\n",
       "      <th>96</th>\n",
       "      <td>2565548</td>\n",
       "      <td>1</td>\n",
       "      <td>488.929113</td>\n",
       "      <td>682</td>\n",
       "      <td>15214</td>\n",
       "      <td>91.35</td>\n",
       "      <td>23.12</td>\n",
       "      <td>105.0</td>\n",
       "      <td>27.20</td>\n",
       "      <td>180864491</td>\n",
       "      <td>...</td>\n",
       "      <td>0</td>\n",
       "      <td>96</td>\n",
       "      <td>shot</td>\n",
       "      <td>fail</td>\n",
       "      <td>foot</td>\n",
       "      <td>Antonio Rukavina</td>\n",
       "      <td>17.455569</td>\n",
       "      <td>0.672952</td>\n",
       "      <td>11.746753</td>\n",
       "      <td>0.290448</td>\n",
       "    </tr>\n",
       "    <tr>\n",
       "      <th>178</th>\n",
       "      <td>2565548</td>\n",
       "      <td>1</td>\n",
       "      <td>948.872079</td>\n",
       "      <td>695</td>\n",
       "      <td>225089</td>\n",
       "      <td>78.75</td>\n",
       "      <td>40.80</td>\n",
       "      <td>105.0</td>\n",
       "      <td>34.00</td>\n",
       "      <td>180864792</td>\n",
       "      <td>...</td>\n",
       "      <td>0</td>\n",
       "      <td>178</td>\n",
       "      <td>shot</td>\n",
       "      <td>fail</td>\n",
       "      <td>foot</td>\n",
       "      <td>Jos\\u00e9 Luis Morales Nogales</td>\n",
       "      <td>27.116462</td>\n",
       "      <td>-0.253476</td>\n",
       "      <td>-6.873366</td>\n",
       "      <td>-0.253476</td>\n",
       "    </tr>\n",
       "  </tbody>\n",
       "</table>\n",
       "<p>5 rows × 22 columns</p>\n",
       "</div>"
      ],
      "text/plain": [
       "     game_id  period_id  time_seconds  team_id  player_id  start_x  start_y  \\\n",
       "20   2565548          1     57.771186      695     225089    97.65    44.88   \n",
       "22   2565548          1     60.727239      695     255738    84.00    27.88   \n",
       "93   2565548          1    446.986112      682      37831    92.40    29.24   \n",
       "96   2565548          1    488.929113      682      15214    91.35    23.12   \n",
       "178  2565548          1    948.872079      695     225089    78.75    40.80   \n",
       "\n",
       "     end_x  end_y original_event_id  ...  result_id  action_id  type_name  \\\n",
       "20   105.0  34.00         180865315  ...          0         20       shot   \n",
       "22    84.0  27.88         180864547  ...          0         22       shot   \n",
       "93    92.4  29.24         180864486  ...          0         93       shot   \n",
       "96   105.0  27.20         180864491  ...          0         96       shot   \n",
       "178  105.0  34.00         180864792  ...          0        178       shot   \n",
       "\n",
       "     result_name bodypart_name                             player_name  \\\n",
       "20          fail          foot          Jos\\u00e9 Luis Morales Nogales   \n",
       "22          fail          foot  Jefferson Andr\\u00e9s Lerma Sol\\u00eds   \n",
       "93          fail          foot             Carlos Arturo Bacca Ahumada   \n",
       "96          fail          foot                        Antonio Rukavina   \n",
       "178         fail          foot          Jos\\u00e9 Luis Morales Nogales   \n",
       "\n",
       "     distancia angulo_gol  distancia.angulo_gol  angulo_chute  \n",
       "20   13.130000  -0.976668            -12.823650     -0.976668  \n",
       "22   21.873601   0.283575              6.202799      0.000000  \n",
       "93   13.469135   0.361204              4.865102      0.000000  \n",
       "96   17.455569   0.672952             11.746753      0.290448  \n",
       "178  27.116462  -0.253476             -6.873366     -0.253476  \n",
       "\n",
       "[5 rows x 22 columns]"
      ]
     },
     "execution_count": 10,
     "metadata": {},
     "output_type": "execute_result"
    }
   ],
   "source": [
    "shots.head()"
   ]
  },
  {
   "cell_type": "markdown",
   "metadata": {},
   "source": [
    "As features escolhidas para o modelo de xG foram as seguintes:\n",
    "\n",
    "Distancia: representa a distância do início do chute até o centro do gol, é uma medida intuitiva e amplamente utilizada em modelos de xG. Em geral, quanto mais próxima do gol é a posição do chute, maior é a probabilidade de gol.\n",
    "\n",
    "Angulo gol: considera o ângulo em que o chute foi dado em relação ao gol. Essa feature é relevante porque geralmente ângulos maiores tem menor chance de gol devido a maior dificuldade por parte de quem chuta.\n",
    "\n",
    "Distancia x Angulo gol: é uma combinação da distância do chute e o ângulo em relação ao gol. Essa feature tenta capturar a interação entre esses dois aspectos do chute, que são relevantes para a previsão da probabilidade de gol.\n",
    "\n",
    "Angulo chute: representa o ângulo do chute em relação ao eixo horizontal, também é uma medida importante, já que chutes realizados em ângulos mais agudos têm maior probabilidade de acertar o gol, porém exigem maior precisão e habilidade de quem chuta."
   ]
  },
  {
   "cell_type": "markdown",
   "metadata": {},
   "source": [
    "## Questão 2\n",
    "- Crie uma coluna numérica binária \"goal\" no dataframe \"shots\" indicando se o chute resultou em gol ou não.\n",
    "- Use regressão logística [1] p/ treinar (.fit(X_train, y_train)) um modelo de xG usando as features criadas na questão 1.\n",
    "- Use 70% dos dados para treino e 30% para teste.\n",
    "- Reporte a acurácia do modelo para os conjuntos de treino (.score(X_train, y_train)) e teste (.score(X_test, y_test))."
   ]
  },
  {
   "cell_type": "code",
   "execution_count": 11,
   "metadata": {},
   "outputs": [],
   "source": [
    "from sklearn.model_selection import train_test_split\n",
    "from sklearn.linear_model import LogisticRegression"
   ]
  },
  {
   "cell_type": "code",
   "execution_count": 12,
   "metadata": {},
   "outputs": [],
   "source": [
    "shots[\"goal\"] =  shots['result_name'].map({'success': 1, 'fail': 0})"
   ]
  },
  {
   "cell_type": "code",
   "execution_count": 13,
   "metadata": {},
   "outputs": [
    {
     "data": {
      "text/plain": [
       "(array([[ 0.8382811 , -0.51887483, -1.6586338 , -0.51887483],\n",
       "        [ 1.67947402, -0.39763105,  0.17183797, -0.42491283],\n",
       "        [ 0.87090817, -0.39016261,  0.04314258, -0.42491283],\n",
       "        ...,\n",
       "        [ 1.39936504, -0.53188176, -2.45326476, -0.52280334],\n",
       "        [ 1.81521626, -0.4849212 , -1.82218043, -0.49538642],\n",
       "        [ 0.87090817, -0.45966305, -0.89296824, -0.40947051]]),\n",
       " array([0, 0, 0, ..., 1, 0, 0]))"
      ]
     },
     "execution_count": 13,
     "metadata": {},
     "output_type": "execute_result"
    }
   ],
   "source": [
    "X, y = shots[[\"distancia\", \"angulo_gol\", \"distancia.angulo_gol\", \"angulo_chute\"]].values, shots[\"goal\"].values\n",
    "X = (X[:,:] - X[:,:].mean())/X[:,:].std(ddof=1)\n",
    "X, y"
   ]
  },
  {
   "cell_type": "code",
   "execution_count": 14,
   "metadata": {},
   "outputs": [],
   "source": [
    "X_train, X_test, y_train, y_test = train_test_split(X, y, test_size=0.30, stratify=y)"
   ]
  },
  {
   "cell_type": "code",
   "execution_count": 15,
   "metadata": {},
   "outputs": [
    {
     "data": {
      "text/html": [
       "<style>#sk-container-id-1 {color: black;background-color: white;}#sk-container-id-1 pre{padding: 0;}#sk-container-id-1 div.sk-toggleable {background-color: white;}#sk-container-id-1 label.sk-toggleable__label {cursor: pointer;display: block;width: 100%;margin-bottom: 0;padding: 0.3em;box-sizing: border-box;text-align: center;}#sk-container-id-1 label.sk-toggleable__label-arrow:before {content: \"▸\";float: left;margin-right: 0.25em;color: #696969;}#sk-container-id-1 label.sk-toggleable__label-arrow:hover:before {color: black;}#sk-container-id-1 div.sk-estimator:hover label.sk-toggleable__label-arrow:before {color: black;}#sk-container-id-1 div.sk-toggleable__content {max-height: 0;max-width: 0;overflow: hidden;text-align: left;background-color: #f0f8ff;}#sk-container-id-1 div.sk-toggleable__content pre {margin: 0.2em;color: black;border-radius: 0.25em;background-color: #f0f8ff;}#sk-container-id-1 input.sk-toggleable__control:checked~div.sk-toggleable__content {max-height: 200px;max-width: 100%;overflow: auto;}#sk-container-id-1 input.sk-toggleable__control:checked~label.sk-toggleable__label-arrow:before {content: \"▾\";}#sk-container-id-1 div.sk-estimator input.sk-toggleable__control:checked~label.sk-toggleable__label {background-color: #d4ebff;}#sk-container-id-1 div.sk-label input.sk-toggleable__control:checked~label.sk-toggleable__label {background-color: #d4ebff;}#sk-container-id-1 input.sk-hidden--visually {border: 0;clip: rect(1px 1px 1px 1px);clip: rect(1px, 1px, 1px, 1px);height: 1px;margin: -1px;overflow: hidden;padding: 0;position: absolute;width: 1px;}#sk-container-id-1 div.sk-estimator {font-family: monospace;background-color: #f0f8ff;border: 1px dotted black;border-radius: 0.25em;box-sizing: border-box;margin-bottom: 0.5em;}#sk-container-id-1 div.sk-estimator:hover {background-color: #d4ebff;}#sk-container-id-1 div.sk-parallel-item::after {content: \"\";width: 100%;border-bottom: 1px solid gray;flex-grow: 1;}#sk-container-id-1 div.sk-label:hover label.sk-toggleable__label {background-color: #d4ebff;}#sk-container-id-1 div.sk-serial::before {content: \"\";position: absolute;border-left: 1px solid gray;box-sizing: border-box;top: 0;bottom: 0;left: 50%;z-index: 0;}#sk-container-id-1 div.sk-serial {display: flex;flex-direction: column;align-items: center;background-color: white;padding-right: 0.2em;padding-left: 0.2em;position: relative;}#sk-container-id-1 div.sk-item {position: relative;z-index: 1;}#sk-container-id-1 div.sk-parallel {display: flex;align-items: stretch;justify-content: center;background-color: white;position: relative;}#sk-container-id-1 div.sk-item::before, #sk-container-id-1 div.sk-parallel-item::before {content: \"\";position: absolute;border-left: 1px solid gray;box-sizing: border-box;top: 0;bottom: 0;left: 50%;z-index: -1;}#sk-container-id-1 div.sk-parallel-item {display: flex;flex-direction: column;z-index: 1;position: relative;background-color: white;}#sk-container-id-1 div.sk-parallel-item:first-child::after {align-self: flex-end;width: 50%;}#sk-container-id-1 div.sk-parallel-item:last-child::after {align-self: flex-start;width: 50%;}#sk-container-id-1 div.sk-parallel-item:only-child::after {width: 0;}#sk-container-id-1 div.sk-dashed-wrapped {border: 1px dashed gray;margin: 0 0.4em 0.5em 0.4em;box-sizing: border-box;padding-bottom: 0.4em;background-color: white;}#sk-container-id-1 div.sk-label label {font-family: monospace;font-weight: bold;display: inline-block;line-height: 1.2em;}#sk-container-id-1 div.sk-label-container {text-align: center;}#sk-container-id-1 div.sk-container {/* jupyter's `normalize.less` sets `[hidden] { display: none; }` but bootstrap.min.css set `[hidden] { display: none !important; }` so we also need the `!important` here to be able to override the default hidden behavior on the sphinx rendered scikit-learn.org. See: https://github.com/scikit-learn/scikit-learn/issues/21755 */display: inline-block !important;position: relative;}#sk-container-id-1 div.sk-text-repr-fallback {display: none;}</style><div id=\"sk-container-id-1\" class=\"sk-top-container\"><div class=\"sk-text-repr-fallback\"><pre>LogisticRegression()</pre><b>In a Jupyter environment, please rerun this cell to show the HTML representation or trust the notebook. <br />On GitHub, the HTML representation is unable to render, please try loading this page with nbviewer.org.</b></div><div class=\"sk-container\" hidden><div class=\"sk-item\"><div class=\"sk-estimator sk-toggleable\"><input class=\"sk-toggleable__control sk-hidden--visually\" id=\"sk-estimator-id-1\" type=\"checkbox\" checked><label for=\"sk-estimator-id-1\" class=\"sk-toggleable__label sk-toggleable__label-arrow\">LogisticRegression</label><div class=\"sk-toggleable__content\"><pre>LogisticRegression()</pre></div></div></div></div></div>"
      ],
      "text/plain": [
       "LogisticRegression()"
      ]
     },
     "execution_count": 15,
     "metadata": {},
     "output_type": "execute_result"
    }
   ],
   "source": [
    "clf = LogisticRegression()\n",
    "clf.fit(X_train, y_train)"
   ]
  },
  {
   "cell_type": "code",
   "execution_count": 16,
   "metadata": {},
   "outputs": [
    {
     "data": {
      "text/plain": [
       "0.8895255147717099"
      ]
     },
     "execution_count": 16,
     "metadata": {},
     "output_type": "execute_result"
    }
   ],
   "source": [
    "clf.score(X_train, y_train)"
   ]
  },
  {
   "cell_type": "code",
   "execution_count": 17,
   "metadata": {},
   "outputs": [
    {
     "data": {
      "text/plain": [
       "0.8893065998329156"
      ]
     },
     "execution_count": 17,
     "metadata": {},
     "output_type": "execute_result"
    }
   ],
   "source": [
    "clf.score(X_test, y_test)"
   ]
  },
  {
   "cell_type": "markdown",
   "metadata": {},
   "source": [
    "## Questão 3\n",
    "- Use o modelo treinado na questão 2 p/ prever a probabilidade de gol de todos os chutes do dataframe \"shots\". Reporte essas probabilidades no dataframe \"shots\" em uma coluna \"xG\".\n",
    "- Agrupe o dataframe \"shots\" por \"player_name\" e reporte a soma dos \"goal\" e \"xG\".\n",
    "- Reporte os 10 jogadores com maior xG.\n",
    "- Reporte os 10 jogadores com maior diferença de Gols e xG."
   ]
  },
  {
   "cell_type": "code",
   "execution_count": 18,
   "metadata": {},
   "outputs": [],
   "source": [
    "shots['xG'] = clf.predict_proba(X)[:, 1]"
   ]
  },
  {
   "cell_type": "code",
   "execution_count": 19,
   "metadata": {},
   "outputs": [],
   "source": [
    "df_aux = shots[[\"player_name\", \"goal\", \"xG\"]]\n",
    "agrupamento_df = df_aux.groupby('player_name').sum()"
   ]
  },
  {
   "cell_type": "code",
   "execution_count": 20,
   "metadata": {},
   "outputs": [
    {
     "data": {
      "text/html": [
       "<div>\n",
       "<style scoped>\n",
       "    .dataframe tbody tr th:only-of-type {\n",
       "        vertical-align: middle;\n",
       "    }\n",
       "\n",
       "    .dataframe tbody tr th {\n",
       "        vertical-align: top;\n",
       "    }\n",
       "\n",
       "    .dataframe thead th {\n",
       "        text-align: right;\n",
       "    }\n",
       "</style>\n",
       "<table border=\"1\" class=\"dataframe\">\n",
       "  <thead>\n",
       "    <tr style=\"text-align: right;\">\n",
       "      <th></th>\n",
       "      <th>goal</th>\n",
       "      <th>xG</th>\n",
       "    </tr>\n",
       "    <tr>\n",
       "      <th>player_name</th>\n",
       "      <th></th>\n",
       "      <th></th>\n",
       "    </tr>\n",
       "  </thead>\n",
       "  <tbody>\n",
       "    <tr>\n",
       "      <th>Cristiano Ronaldo dos Santos Aveiro</th>\n",
       "      <td>23</td>\n",
       "      <td>21.770747</td>\n",
       "    </tr>\n",
       "    <tr>\n",
       "      <th>Luis Alberto Su\\u00e1rez D\\u00edaz</th>\n",
       "      <td>24</td>\n",
       "      <td>17.720356</td>\n",
       "    </tr>\n",
       "    <tr>\n",
       "      <th>Lionel Andr\\u00e9s Messi Cuccittini</th>\n",
       "      <td>26</td>\n",
       "      <td>16.466265</td>\n",
       "    </tr>\n",
       "    <tr>\n",
       "      <th>Gerard Moreno Balaguero</th>\n",
       "      <td>15</td>\n",
       "      <td>14.975280</td>\n",
       "    </tr>\n",
       "    <tr>\n",
       "      <th>Maximiliano G\\u00f3mez Gonz\\u00e1lez</th>\n",
       "      <td>18</td>\n",
       "      <td>13.019199</td>\n",
       "    </tr>\n",
       "    <tr>\n",
       "      <th>Cristhian Ricardo Stuani Curbelo</th>\n",
       "      <td>16</td>\n",
       "      <td>11.967994</td>\n",
       "    </tr>\n",
       "    <tr>\n",
       "      <th>Iago Aspas Juncal</th>\n",
       "      <td>19</td>\n",
       "      <td>11.457824</td>\n",
       "    </tr>\n",
       "    <tr>\n",
       "      <th>Enrique Garc\\u00eda Mart\\u00ednez</th>\n",
       "      <td>8</td>\n",
       "      <td>10.590815</td>\n",
       "    </tr>\n",
       "    <tr>\n",
       "      <th>Jonathan Calleri</th>\n",
       "      <td>4</td>\n",
       "      <td>10.408095</td>\n",
       "    </tr>\n",
       "    <tr>\n",
       "      <th>Ra\\u00fal Garc\\u00eda Escudero</th>\n",
       "      <td>7</td>\n",
       "      <td>10.173836</td>\n",
       "    </tr>\n",
       "  </tbody>\n",
       "</table>\n",
       "</div>"
      ],
      "text/plain": [
       "                                      goal         xG\n",
       "player_name                                          \n",
       "Cristiano Ronaldo dos Santos Aveiro     23  21.770747\n",
       "Luis Alberto Su\\u00e1rez D\\u00edaz      24  17.720356\n",
       "Lionel Andr\\u00e9s Messi Cuccittini     26  16.466265\n",
       "Gerard Moreno Balaguero                 15  14.975280\n",
       "Maximiliano G\\u00f3mez Gonz\\u00e1lez    18  13.019199\n",
       "Cristhian Ricardo Stuani Curbelo        16  11.967994\n",
       "Iago Aspas Juncal                       19  11.457824\n",
       "Enrique Garc\\u00eda Mart\\u00ednez        8  10.590815\n",
       "Jonathan Calleri                         4  10.408095\n",
       "Ra\\u00fal Garc\\u00eda Escudero           7  10.173836"
      ]
     },
     "execution_count": 20,
     "metadata": {},
     "output_type": "execute_result"
    }
   ],
   "source": [
    "top10_xG = agrupamento_df.sort_values(by=\"xG\", ascending=False).head(10)\n",
    "top10_xG"
   ]
  },
  {
   "cell_type": "code",
   "execution_count": 21,
   "metadata": {},
   "outputs": [],
   "source": [
    "agrupamento_df[\"goal - xG\"] = agrupamento_df[\"goal\"].copy() - agrupamento_df[\"xG\"].copy()"
   ]
  },
  {
   "cell_type": "code",
   "execution_count": 22,
   "metadata": {},
   "outputs": [
    {
     "data": {
      "text/html": [
       "<div>\n",
       "<style scoped>\n",
       "    .dataframe tbody tr th:only-of-type {\n",
       "        vertical-align: middle;\n",
       "    }\n",
       "\n",
       "    .dataframe tbody tr th {\n",
       "        vertical-align: top;\n",
       "    }\n",
       "\n",
       "    .dataframe thead th {\n",
       "        text-align: right;\n",
       "    }\n",
       "</style>\n",
       "<table border=\"1\" class=\"dataframe\">\n",
       "  <thead>\n",
       "    <tr style=\"text-align: right;\">\n",
       "      <th></th>\n",
       "      <th>goal</th>\n",
       "      <th>xG</th>\n",
       "      <th>goal - xG</th>\n",
       "    </tr>\n",
       "    <tr>\n",
       "      <th>player_name</th>\n",
       "      <th></th>\n",
       "      <th></th>\n",
       "      <th></th>\n",
       "    </tr>\n",
       "  </thead>\n",
       "  <tbody>\n",
       "    <tr>\n",
       "      <th>Lionel Andr\\u00e9s Messi Cuccittini</th>\n",
       "      <td>26</td>\n",
       "      <td>16.466265</td>\n",
       "      <td>9.533735</td>\n",
       "    </tr>\n",
       "    <tr>\n",
       "      <th>Antoine Griezmann</th>\n",
       "      <td>16</td>\n",
       "      <td>6.920137</td>\n",
       "      <td>9.079863</td>\n",
       "    </tr>\n",
       "    <tr>\n",
       "      <th>Iago Aspas Juncal</th>\n",
       "      <td>19</td>\n",
       "      <td>11.457824</td>\n",
       "      <td>7.542176</td>\n",
       "    </tr>\n",
       "    <tr>\n",
       "      <th>Luis Alberto Su\\u00e1rez D\\u00edaz</th>\n",
       "      <td>24</td>\n",
       "      <td>17.720356</td>\n",
       "      <td>6.279644</td>\n",
       "    </tr>\n",
       "    <tr>\n",
       "      <th>Gareth Frank Bale</th>\n",
       "      <td>15</td>\n",
       "      <td>8.802585</td>\n",
       "      <td>6.197415</td>\n",
       "    </tr>\n",
       "    <tr>\n",
       "      <th>Mikel Oyarzabal Ugarte</th>\n",
       "      <td>12</td>\n",
       "      <td>5.960206</td>\n",
       "      <td>6.039794</td>\n",
       "    </tr>\n",
       "    <tr>\n",
       "      <th>Rodrigo Moreno Machado</th>\n",
       "      <td>15</td>\n",
       "      <td>9.275436</td>\n",
       "      <td>5.724564</td>\n",
       "    </tr>\n",
       "    <tr>\n",
       "      <th>\\u00c1ngel Luis Rodr\\u00edguez D\\u00edaz</th>\n",
       "      <td>13</td>\n",
       "      <td>7.434832</td>\n",
       "      <td>5.565168</td>\n",
       "    </tr>\n",
       "    <tr>\n",
       "      <th>Philippe Coutinho Correia</th>\n",
       "      <td>8</td>\n",
       "      <td>2.723876</td>\n",
       "      <td>5.276124</td>\n",
       "    </tr>\n",
       "    <tr>\n",
       "      <th>Maximiliano G\\u00f3mez Gonz\\u00e1lez</th>\n",
       "      <td>18</td>\n",
       "      <td>13.019199</td>\n",
       "      <td>4.980801</td>\n",
       "    </tr>\n",
       "  </tbody>\n",
       "</table>\n",
       "</div>"
      ],
      "text/plain": [
       "                                          goal         xG  goal - xG\n",
       "player_name                                                         \n",
       "Lionel Andr\\u00e9s Messi Cuccittini         26  16.466265   9.533735\n",
       "Antoine Griezmann                           16   6.920137   9.079863\n",
       "Iago Aspas Juncal                           19  11.457824   7.542176\n",
       "Luis Alberto Su\\u00e1rez D\\u00edaz          24  17.720356   6.279644\n",
       "Gareth Frank Bale                           15   8.802585   6.197415\n",
       "Mikel Oyarzabal Ugarte                      12   5.960206   6.039794\n",
       "Rodrigo Moreno Machado                      15   9.275436   5.724564\n",
       "\\u00c1ngel Luis Rodr\\u00edguez D\\u00edaz    13   7.434832   5.565168\n",
       "Philippe Coutinho Correia                    8   2.723876   5.276124\n",
       "Maximiliano G\\u00f3mez Gonz\\u00e1lez        18  13.019199   4.980801"
      ]
     },
     "execution_count": 22,
     "metadata": {},
     "output_type": "execute_result"
    }
   ],
   "source": [
    "top10_dif = agrupamento_df.sort_values(by=\"goal - xG\", ascending=False).head(10)\n",
    "top10_dif"
   ]
  },
  {
   "cell_type": "markdown",
   "metadata": {},
   "source": [
    "## Questão 4 [4]\n",
    "- Instancie um objeto ExpectedThreat [2] com parâmetros l=25 e w=16.\n",
    "- Faça o fit do modelo ExpectedThreat com o dataframe \"spadl\"."
   ]
  },
  {
   "cell_type": "code",
   "execution_count": 30,
   "metadata": {},
   "outputs": [],
   "source": [
    "modelo = xt.ExpectedThreat(l=25, w=16)"
   ]
  },
  {
   "cell_type": "code",
   "execution_count": 31,
   "metadata": {},
   "outputs": [
    {
     "name": "stdout",
     "output_type": "stream",
     "text": [
      "# iterations:  30\n"
     ]
    },
    {
     "data": {
      "text/plain": [
       "<socceraction.xthreat.ExpectedThreat at 0x7f7469388160>"
      ]
     },
     "execution_count": 31,
     "metadata": {},
     "output_type": "execute_result"
    }
   ],
   "source": [
    "modelo.fit(spadl)"
   ]
  },
  {
   "cell_type": "markdown",
   "metadata": {},
   "source": [
    "## Questão 5\n",
    "- Crie um dataframe \"prog_actions\" à partir do dataframe \"spadl\", contendo apenas as ações de progressão e que são bem-sucedidas [3].\n",
    "- Use o método rate do objeto ExpectedThreat p/ calcular o valor de cada ação de progressão do dataframe \"prog_actions\", em uma coluna chamada \"action_value\".\n",
    "- Agrupe o dataframe \"prog_actions\" por \"player_name\" e reporte a soma dos \"action_value\".\n",
    "- Reporte os 10 jogadores com maior \"action_value\"."
   ]
  },
  {
   "cell_type": "code",
   "execution_count": 32,
   "metadata": {},
   "outputs": [],
   "source": [
    "prog_actions = xt.get_successful_move_actions(spadl)"
   ]
  },
  {
   "cell_type": "code",
   "execution_count": 33,
   "metadata": {},
   "outputs": [],
   "source": [
    "prog_actions[\"action_value\"] = modelo.rate(prog_actions)"
   ]
  },
  {
   "cell_type": "code",
   "execution_count": 34,
   "metadata": {},
   "outputs": [],
   "source": [
    "df_action_value = prog_actions[[\"player_name\", \"action_value\"]]\n",
    "agrupamento_action_value = df_action_value.groupby('player_name').sum()"
   ]
  },
  {
   "cell_type": "code",
   "execution_count": 35,
   "metadata": {},
   "outputs": [
    {
     "data": {
      "text/html": [
       "<div>\n",
       "<style scoped>\n",
       "    .dataframe tbody tr th:only-of-type {\n",
       "        vertical-align: middle;\n",
       "    }\n",
       "\n",
       "    .dataframe tbody tr th {\n",
       "        vertical-align: top;\n",
       "    }\n",
       "\n",
       "    .dataframe thead th {\n",
       "        text-align: right;\n",
       "    }\n",
       "</style>\n",
       "<table border=\"1\" class=\"dataframe\">\n",
       "  <thead>\n",
       "    <tr style=\"text-align: right;\">\n",
       "      <th></th>\n",
       "      <th>action_value</th>\n",
       "    </tr>\n",
       "    <tr>\n",
       "      <th>player_name</th>\n",
       "      <th></th>\n",
       "    </tr>\n",
       "  </thead>\n",
       "  <tbody>\n",
       "    <tr>\n",
       "      <th>Lionel Andr\\u00e9s Messi Cuccittini</th>\n",
       "      <td>10.650189</td>\n",
       "    </tr>\n",
       "    <tr>\n",
       "      <th>Marcelo Vieira da Silva J\\u00fanior</th>\n",
       "      <td>10.264535</td>\n",
       "    </tr>\n",
       "    <tr>\n",
       "      <th>\\u00c1lvaro Odriozola Arzallus</th>\n",
       "      <td>8.708854</td>\n",
       "    </tr>\n",
       "    <tr>\n",
       "      <th>Jos\\u00e9 Luis Morales Nogales</th>\n",
       "      <td>7.819040</td>\n",
       "    </tr>\n",
       "    <tr>\n",
       "      <th>Hugo Mallo Novegil</th>\n",
       "      <td>7.431915</td>\n",
       "    </tr>\n",
       "    <tr>\n",
       "      <th>Juan Francisco Moreno Fuertes</th>\n",
       "      <td>7.281309</td>\n",
       "    </tr>\n",
       "    <tr>\n",
       "      <th>\\u00c9ver Maximiliano David Banega</th>\n",
       "      <td>7.015160</td>\n",
       "    </tr>\n",
       "    <tr>\n",
       "      <th>Lucas V\\u00e1zquez Iglesias</th>\n",
       "      <td>6.908507</td>\n",
       "    </tr>\n",
       "    <tr>\n",
       "      <th>Jordi Alba Ramos</th>\n",
       "      <td>6.824937</td>\n",
       "    </tr>\n",
       "    <tr>\n",
       "      <th>Jos\\u00e9 Luis Gay\\u00e1 Pe\\u00f1a</th>\n",
       "      <td>6.811350</td>\n",
       "    </tr>\n",
       "  </tbody>\n",
       "</table>\n",
       "</div>"
      ],
      "text/plain": [
       "                                     action_value\n",
       "player_name                                      \n",
       "Lionel Andr\\u00e9s Messi Cuccittini     10.650189\n",
       "Marcelo Vieira da Silva J\\u00fanior     10.264535\n",
       "\\u00c1lvaro Odriozola Arzallus           8.708854\n",
       "Jos\\u00e9 Luis Morales Nogales           7.819040\n",
       "Hugo Mallo Novegil                       7.431915\n",
       "Juan Francisco Moreno Fuertes            7.281309\n",
       "\\u00c9ver Maximiliano David Banega       7.015160\n",
       "Lucas V\\u00e1zquez Iglesias              6.908507\n",
       "Jordi Alba Ramos                         6.824937\n",
       "Jos\\u00e9 Luis Gay\\u00e1 Pe\\u00f1a       6.811350"
      ]
     },
     "execution_count": 35,
     "metadata": {},
     "output_type": "execute_result"
    }
   ],
   "source": [
    "top10_action_value = agrupamento_action_value.sort_values(by=\"action_value\", ascending=False).head(10)\n",
    "top10_action_value"
   ]
  },
  {
   "cell_type": "code",
   "execution_count": null,
   "metadata": {},
   "outputs": [],
   "source": []
  }
 ],
 "metadata": {
  "kernelspec": {
   "display_name": "Python 3 (ipykernel)",
   "language": "python",
   "name": "python3"
  },
  "language_info": {
   "codemirror_mode": {
    "name": "ipython",
    "version": 3
   },
   "file_extension": ".py",
   "mimetype": "text/x-python",
   "name": "python",
   "nbconvert_exporter": "python",
   "pygments_lexer": "ipython3",
   "version": "3.12.3"
  }
 },
 "nbformat": 4,
 "nbformat_minor": 1
}
